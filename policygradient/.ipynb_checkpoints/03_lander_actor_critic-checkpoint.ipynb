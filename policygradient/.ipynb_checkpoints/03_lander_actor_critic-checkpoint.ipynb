{
 "cells": [
  {
   "cell_type": "markdown",
   "id": "FMNBAjTne9or",
   "metadata": {
    "id": "FMNBAjTne9or"
   },
   "source": [
    "[Hands on RL Policy Gradient](https://github.com/PacktPublishing/Hands-on-Reinforcement-Learning-with-PyTorch/blob/master/Section%204/4.3%20Policy%20Gradients%20REINFORCE.ipynb)\n",
    "\n",
    "[Policy Gradient Math](https://towardsdatascience.com/policy-gradients-in-reinforcement-learning-explained-ecec7df94245)\n",
    "\n",
    "A widely used variation of REINFORCE is to subtract a baseline value from the return to reduce the variance of gradient estimation while keeping the bias unchanged (Remember we always want to do this when possible). For example, a common baseline is to subtract state-value from action-value, and if applied, we would use advantage:\n",
    "\n",
    "$$\n",
    "A(s,a) = Q(s,a) - V(s)\n",
    "$$\n",
    "\n",
    "in the gradient ascent update. This [post](https://danieltakeshi.github.io/2017/03/28/going-deeper-into-reinforcement-learning-fundamentals-of-policy-gradients/) nicely explained why a baseline works for reducing the variance, in addition to a set of fundamentals of policy gradient."
   ]
  },
  {
   "cell_type": "code",
   "execution_count": null,
   "id": "uj0_Tz5D4ZR-",
   "metadata": {
    "colab": {
     "base_uri": "https://localhost:8080/"
    },
    "executionInfo": {
     "elapsed": 107084,
     "status": "ok",
     "timestamp": 1710514211011,
     "user": {
      "displayName": "Arindam Dey",
      "userId": "10651625546197419632"
     },
     "user_tz": -330
    },
    "id": "uj0_Tz5D4ZR-",
    "outputId": "4e615863-9a99-4770-e571-76b473fdff23"
   },
   "outputs": [],
   "source": [
    "#!pip install swig\n",
    "#!pip install gymnasium[box2d]"
   ]
  },
  {
   "cell_type": "markdown",
   "id": "76ac27d3-eb12-4cbf-90c2-e725a5eafb41",
   "metadata": {},
   "source": [
    "## Policy Gradient with Baseline\n",
    "\n",
    "![Reinforce_bl](reinforce_bl.png) "
   ]
  },
  {
   "cell_type": "code",
   "execution_count": 45,
   "id": "168d04e4-18b5-4a32-ac2c-d787c36bf205",
   "metadata": {
    "executionInfo": {
     "elapsed": 9191,
     "status": "ok",
     "timestamp": 1710514225212,
     "user": {
      "displayName": "Arindam Dey",
      "userId": "10651625546197419632"
     },
     "user_tz": -330
    },
    "id": "168d04e4-18b5-4a32-ac2c-d787c36bf205"
   },
   "outputs": [],
   "source": [
    "import torch\n",
    "from torch import cuda, device, distributions\n",
    "import torch.nn as nn\n",
    "import torch.nn.functional as F\n",
    "import torch.optim as optim\n",
    "#from torch.distributions import Categorical\n",
    "import math\n",
    "\n",
    "import gymnasium as gym\n",
    "import os, random\n",
    "from pathlib import Path\n",
    "from collections import deque\n",
    "\n",
    "import pandas as pd\n",
    "import numpy as np\n",
    "import re\n",
    "\n",
    "import matplotlib.pyplot as plt\n",
    "import seaborn as sns\n",
    "sns.set_theme()\n",
    "\n",
    "from IPython.display import clear_output"
   ]
  },
  {
   "cell_type": "code",
   "execution_count": 46,
   "id": "f3ce09f3-e160-43b3-949a-736f79a10e62",
   "metadata": {
    "colab": {
     "base_uri": "https://localhost:8080/"
    },
    "executionInfo": {
     "elapsed": 480,
     "status": "ok",
     "timestamp": 1710514227660,
     "user": {
      "displayName": "Arindam Dey",
      "userId": "10651625546197419632"
     },
     "user_tz": -330
    },
    "id": "f3ce09f3-e160-43b3-949a-736f79a10e62",
    "outputId": "e98d9040-c16b-44ef-9d8f-38854c96af7c"
   },
   "outputs": [
    {
     "name": "stdout",
     "output_type": "stream",
     "text": [
      "_____OBSERVATION SPACE_____ \n",
      "\n",
      "The State Space is:  8\n",
      "Sample observation [-0.6274531   0.94414556 -3.3255715  -2.745313   -1.4490807   0.5203062\n",
      "  0.10178377  0.16786365]\n"
     ]
    }
   ],
   "source": [
    "env_id = \"LunarLander-v2\"\n",
    "env = gym.make(env_id)#,render_mode=\"human\")\n",
    "\n",
    "s_size = env.observation_space.shape[0]\n",
    "a_size = env.action_space.n\n",
    "\n",
    "print(\"_____OBSERVATION SPACE_____ \\n\")\n",
    "print(\"The State Space is: \", s_size)\n",
    "print(\"Sample observation\", env.observation_space.sample()) # Get a random observation"
   ]
  },
  {
   "cell_type": "code",
   "execution_count": 47,
   "id": "92dc078a-f91b-40e3-9da3-97fb63177f3d",
   "metadata": {
    "executionInfo": {
     "elapsed": 4,
     "status": "ok",
     "timestamp": 1710514229946,
     "user": {
      "displayName": "Arindam Dey",
      "userId": "10651625546197419632"
     },
     "user_tz": -330
    },
    "id": "92dc078a-f91b-40e3-9da3-97fb63177f3d"
   },
   "outputs": [],
   "source": [
    "device = device(\"cuda:0\" if cuda.is_available() else \"cpu\")"
   ]
  },
  {
   "cell_type": "code",
   "execution_count": 48,
   "id": "877dfcb2-324c-402d-a75f-55a9decc8d5f",
   "metadata": {
    "executionInfo": {
     "elapsed": 3,
     "status": "ok",
     "timestamp": 1710514231593,
     "user": {
      "displayName": "Arindam Dey",
      "userId": "10651625546197419632"
     },
     "user_tz": -330
    },
    "id": "877dfcb2-324c-402d-a75f-55a9decc8d5f"
   },
   "outputs": [],
   "source": [
    "def calc_disc_return(r_t , gamma = 0.998):\n",
    "\n",
    "    G_t = deque(maxlen = len(r_t))\n",
    "    G_t.append(r_t[-1])\n",
    "\n",
    "    for i in reversed(r_t[:-1]):\n",
    "        disc = i + (gamma*G_t[0])\n",
    "        G_t.appendleft(disc)\n",
    "\n",
    "    return np.array(G_t)\n",
    "\n",
    "class PolicyNet(nn.Module):\n",
    "    def __init__(self, state_size, action_size, hidden_size):\n",
    "        super(PolicyNet, self).__init__()\n",
    "        self.dense_layer_1 = nn.Linear(state_size, hidden_size)\n",
    "        self.dense_layer_2 = nn.Linear(hidden_size, hidden_size)\n",
    "        self.output = nn.Linear(hidden_size, action_size)\n",
    "\n",
    "    def forward(self, x):\n",
    "        x = torch.clamp(x,-1.1,1.1)\n",
    "        x = F.relu(self.dense_layer_1(x))\n",
    "        x = F.relu(self.dense_layer_2(x))\n",
    "        return F.softmax(self.output(x),dim = 1)\n",
    "\n",
    "class ValueNet(nn.Module):\n",
    "    def __init__(self, state_size, hidden_size):\n",
    "        super(ValueNet, self).__init__()\n",
    "        self.dense_layer_1 = nn.Linear(state_size, hidden_size)\n",
    "        self.dense_layer_2 = nn.Linear(hidden_size, hidden_size)\n",
    "        self.output = nn.Linear(hidden_size, 1)\n",
    "\n",
    "    def forward(self, x):\n",
    "        x = torch.clamp(x,-1.1,1.1)\n",
    "        x = F.relu(self.dense_layer_1(x))\n",
    "        x = F.relu(self.dense_layer_2(x))\n",
    "        return self.output(x)\n",
    "\n",
    "class Agent():\n",
    "    def __init__(self, state_size, action_size, hidden_size, gamma = 0.99, learning_rate = 0.001):\n",
    "        \n",
    "        self.state_size = state_size\n",
    "        self.action_size = action_size\n",
    "        self.hidden_size = hidden_size\n",
    "        self.gamma = gamma\n",
    "        \n",
    "        self.policy_net = PolicyNet(state_size, action_size, hidden_size).to(device)\n",
    "        self.value_net = ValueNet(s_size, hidden_layer).to(device)\n",
    "        self.optimizer = optim.Adam(self.policy_net.parameters(), lr = learning_rate)\n",
    "        self.v_optimizer = optim.Adam(self.value_net.parameters(), lr = learning_rate)\n",
    "    \n",
    "    def train(self, states, rewards, actions):\n",
    "        \n",
    "        state_t = torch.FloatTensor(states).to(device)\n",
    "        action_t = torch.LongTensor(actions).to(device).view(-1,1)\n",
    "        return_t = torch.FloatTensor(calc_disc_return(rewards, gamma)).to(device).view(-1,1)\n",
    "    \n",
    "        vf_t = self.value_net(state_t).to(device)\n",
    "        with torch.no_grad():\n",
    "            advantage_t = return_t - vf_t\n",
    "    \n",
    "        selected_action_prob = self.policy_net(state_t).gather(1, action_t)\n",
    "        loss = torch.mean(-torch.log(selected_action_prob) * advantage_t)\n",
    "    \n",
    "        self.optimizer.zero_grad()\n",
    "        loss.backward()\n",
    "        self.optimizer.step()\n",
    "    \n",
    "        loss_fn = nn.MSELoss()\n",
    "        vf_loss = loss_fn(vf_t, return_t)\n",
    "        self.v_optimizer.zero_grad()\n",
    "        vf_loss.backward()\n",
    "        self.v_optimizer.step()\n",
    "\n",
    "        grads = np.concatenate([p.grad.data.detach().cpu().numpy().flatten()\n",
    "                                for p in self.policy_net.parameters()\n",
    "                                if p.grad is not None])\n",
    "        \n",
    "        grad_l2 = np.sqrt(np.mean(np.square(grads)))\n",
    "        grad_max = np.max(np.abs(grads))\n",
    "    \n",
    "        return loss.item(), grad_l2, grad_max\n",
    "    \n",
    "    def save(self, model_file):\n",
    "        torch.save({\n",
    "            'policy_net_dict': self.policy_net.state_dict(),\n",
    "            'value_net_dict': self.value_net.state_dict(),\n",
    "            }, model_file)\n",
    "        \n",
    "    def load(self, model_file):\n",
    "        checkpoint = torch.load(model_file)\n",
    "        self.policy_net.load_state_dict(checkpoint['policy_net_dict'])\n",
    "        self.value_net.load_state_dict(checkpoint['value_net_dict'])"
   ]
  },
  {
   "cell_type": "code",
   "execution_count": 49,
   "id": "96aabf3a-08fe-499f-aee8-b7699b50a619",
   "metadata": {
    "executionInfo": {
     "elapsed": 3269,
     "status": "ok",
     "timestamp": 1710514241598,
     "user": {
      "displayName": "Arindam Dey",
      "userId": "10651625546197419632"
     },
     "user_tz": -330
    },
    "id": "96aabf3a-08fe-499f-aee8-b7699b50a619"
   },
   "outputs": [],
   "source": [
    "hidden_layer = 64\n",
    "gamma = 0.995\n",
    "policy_lr = 0.001\n",
    "value_lr = 0.001\n",
    "episodes = 100_000\n",
    "avg_win_size = 50\n",
    "epi_results = deque(maxlen=avg_win_size)\n",
    "\n",
    "agent = Agent(s_size, a_size, hidden_layer)"
   ]
  },
  {
   "cell_type": "code",
   "execution_count": 50,
   "id": "8957793e-cec7-4aac-8b6d-fb808f290f94",
   "metadata": {},
   "outputs": [],
   "source": [
    "log_file_name = os.path.join('.','artefacts',f'{env_id}_policygradient_bl_1.csv')\n",
    "model_file = os.path.join('.','models',f'{env_id}_policygradient_bl.pt')"
   ]
  },
  {
   "cell_type": "code",
   "execution_count": 12,
   "id": "3fcac59a-0b87-4ed7-9df2-3b4875cb062c",
   "metadata": {
    "colab": {
     "base_uri": "https://localhost:8080/"
    },
    "executionInfo": {
     "elapsed": 840379,
     "status": "ok",
     "timestamp": 1710515084273,
     "user": {
      "displayName": "Arindam Dey",
      "userId": "10651625546197419632"
     },
     "user_tz": -330
    },
    "id": "3fcac59a-0b87-4ed7-9df2-3b4875cb062c",
    "outputId": "e2be8c49-bada-4dee-e938-a155f088154e",
    "tags": []
   },
   "outputs": [
    {
     "name": "stdout",
     "output_type": "stream",
     "text": [
      "set train flag to True for Training\n"
     ]
    }
   ],
   "source": [
    "train = False\n",
    "if train:\n",
    "    log_file = open(log_file_name, \"w\")\n",
    "    log_file.write(f'episode,rewards,loss,l2_grad,max_grad\\n')\n",
    "\n",
    "for epi in range(episodes):\n",
    "\n",
    "    if not train:\n",
    "        print(\"set train flag to True for Training\")\n",
    "        break\n",
    "        \n",
    "    s = env.reset()[0]\n",
    "    term , trunc = False, False\n",
    "    rewards, states , actions = [], [], []\n",
    "    win = 0\n",
    "\n",
    "    while not any([term, trunc]):\n",
    "\n",
    "        states.append(s)\n",
    "        obs = torch.FloatTensor(np.expand_dims(s,0)).to(device)\n",
    "\n",
    "        with torch.no_grad():\n",
    "            p_vals = agent.policy_net(obs)\n",
    "            p_vals = torch.squeeze(p_vals)\n",
    "\n",
    "        p_vals = p_vals.detach().cpu().numpy()\n",
    "        a = np.random.choice(a_size, p=p_vals)\n",
    "\n",
    "        s_, r, term ,trunc, _  = env.step(a)\n",
    "        actions.append(a)\n",
    "        rewards.append(r)\n",
    "        s=np.copy(s_)\n",
    "\n",
    "    epi_results.append(np.sum(rewards))\n",
    "    loss, grad_l2, grad_max = agent.train(states, rewards, actions)\n",
    "    log_file.write(f'{epi},{np.sum(rewards):.2f},{loss:.2f},{grad_l2:.4f},{grad_max:.4f}\\n')\n",
    "    \n",
    "    if epi%100==0:\n",
    "        clear_output()\n",
    "    if epi%10==0:\n",
    "        print(f'epi:{epi:05d} reward:{np.sum(rewards):8.2f} loss:{loss:8.2f} mean_rewards:{np.mean(epi_results):8.2f}')\n",
    "    if np.mean(np.mean(epi_results))>200:\n",
    "        break\n",
    "\n",
    "if train:\n",
    "    print(f'Saving Agent as {model_file}')\n",
    "    agent.save(model_file)\n",
    "    log_file.close()"
   ]
  },
  {
   "cell_type": "code",
   "execution_count": 51,
   "id": "3c83c76c-5185-4456-b128-09dd3a2580fd",
   "metadata": {},
   "outputs": [],
   "source": [
    "eval_agent = Agent(s_size, a_size, hidden_layer)\n",
    "eval_agent.load(model_file) \n",
    "df = pd.read_csv(log_file_name)\n",
    "df['mean_rewards'] = df['rewards'].rolling(avg_win_size).mean()"
   ]
  },
  {
   "cell_type": "code",
   "execution_count": 52,
   "id": "bb6aafc3-91ca-4037-b7e4-afcabefb8ee6",
   "metadata": {},
   "outputs": [
    {
     "data": {
      "text/plain": [
       "Text(0.5, 1.0, 'Gradient')"
      ]
     },
     "execution_count": 52,
     "metadata": {},
     "output_type": "execute_result"
    },
    {
     "data": {
      "image/png": "[encoded data removed]",
      "text/plain": [
       "<Figure size 1600x400 with 3 Axes>"
      ]
     },
     "metadata": {},
     "output_type": "display_data"
    }
   ],
   "source": [
    "fig,ax=plt.subplots(1,3,sharex='col',sharey= False,figsize=(16,4))\n",
    "\n",
    "sns.lineplot(df['rewards'], ax = ax[0])\n",
    "sns.lineplot(df['mean_rewards'],ax = ax[0])\n",
    "ax[0].set_title('Rewards & Mean Rewards',fontsize=8)\n",
    "\n",
    "sns.lineplot(df['loss'],ax = ax[1])\n",
    "ax[1].set_title('Loss',fontsize=8)\n",
    "sns.histplot(df['l2_grad'],ax = ax[2], kde = True)\n",
    "ax[2].set_title('Gradient',fontsize=8)"
   ]
  },
  {
   "cell_type": "code",
   "execution_count": 53,
   "id": "_Hbm2_T2rRXM",
   "metadata": {
    "colab": {
     "base_uri": "https://localhost:8080/"
    },
    "executionInfo": {
     "elapsed": 101484,
     "status": "ok",
     "timestamp": 1710516736511,
     "user": {
      "displayName": "Arindam Dey",
      "userId": "10651625546197419632"
     },
     "user_tz": -330
    },
    "id": "_Hbm2_T2rRXM",
    "outputId": "56c7bf3f-ab5b-486f-a938-49a466710605"
   },
   "outputs": [
    {
     "name": "stdout",
     "output_type": "stream",
     "text": [
      "epi = 0 result 183.68\n",
      "epi = 1 result 246.64\n",
      "epi = 2 result 258.73\n",
      "epi = 3 result 110.78\n",
      "epi = 4 result 265.22\n",
      "epi = 5 result 113.52\n",
      "epi = 6 result 255.12\n",
      "epi = 7 result 115.69\n",
      "epi = 8 result 195.98\n",
      "epi = 9 result 290.89\n"
     ]
    }
   ],
   "source": [
    "eval_env = gym.make(env_id,render_mode=\"human\")\n",
    "\n",
    "for epi in range(10):\n",
    "\n",
    "    s = eval_env.reset()[0]\n",
    "    term = False\n",
    "    trunc = False\n",
    "    score = 0\n",
    "    n=0\n",
    "    while not any([term, trunc]):\n",
    "\n",
    "        obs = torch.FloatTensor(np.expand_dims(s,0)).to(device)\n",
    "\n",
    "        with torch.no_grad():\n",
    "            p_vals = eval_agent.policy_net(obs)\n",
    "            p_vals = torch.squeeze(p_vals)\n",
    "\n",
    "        p_vals = p_vals.detach().cpu().numpy()\n",
    "        #a = np.random.choice(a_size, p=p_vals)\n",
    "        a = np.argmax(p_vals)\n",
    "        s, r, term ,trunc , _  = eval_env.step(a)\n",
    "        #s = np.copy(s_)\n",
    "        #env.render()\n",
    "        n+=1\n",
    "        score+=r\n",
    "        if score >=200:\n",
    "            break\n",
    "\n",
    "    print(f'{epi = } result {score:4.2f}')\n",
    "eval_env.close()"
   ]
  },
  {
   "cell_type": "code",
   "execution_count": null,
   "id": "aefd7263-c158-4e28-837d-952eb110c630",
   "metadata": {},
   "outputs": [],
   "source": []
  }
 ],
 "metadata": {
  "colab": {
   "provenance": []
  },
  "kernelspec": {
   "display_name": "torch",
   "language": "python",
   "name": "torch"
  },
  "language_info": {
   "codemirror_mode": {
    "name": "ipython",
    "version": 3
   },
   "file_extension": ".py",
   "mimetype": "text/x-python",
   "name": "python",
   "nbconvert_exporter": "python",
   "pygments_lexer": "ipython3",
   "version": "3.9.16"
  }
 },
 "nbformat": 4,
 "nbformat_minor": 5
}
