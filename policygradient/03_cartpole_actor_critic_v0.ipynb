{
 "cells": [
  {
   "cell_type": "code",
   "execution_count": 21,
   "id": "168d04e4-18b5-4a32-ac2c-d787c36bf205",
   "metadata": {
    "id": "168d04e4-18b5-4a32-ac2c-d787c36bf205"
   },
   "outputs": [],
   "source": [
    "import os\n",
    "\n",
    "from torch import cuda, device, distributions\n",
    "import torch.nn as nn\n",
    "import torch.nn.functional as F\n",
    "import torch.optim as optim\n",
    "\n",
    "from collections import deque\n",
    "import importlib\n",
    "import torch as T\n",
    "import gymnasium as gym\n",
    "import os, random\n",
    "from pathlib import Path\n",
    "\n",
    "import policygradient\n",
    "importlib.reload(policygradient)\n",
    "\n",
    "import pandas as pd\n",
    "import numpy as np\n",
    "import re\n",
    "\n",
    "import matplotlib.pyplot as plt\n",
    "import seaborn as sns\n",
    "sns.set_theme()\n",
    "from IPython.display import clear_output"
   ]
  },
  {
   "cell_type": "markdown",
   "id": "fb3d1491-5759-4db0-8d1c-546a128ed8b0",
   "metadata": {},
   "source": [
    "### Initializing the Environment"
   ]
  },
  {
   "cell_type": "code",
   "execution_count": 22,
   "id": "f3ce09f3-e160-43b3-949a-736f79a10e62",
   "metadata": {
    "colab": {
     "base_uri": "https://localhost:8080/"
    },
    "executionInfo": {
     "elapsed": 875,
     "status": "ok",
     "timestamp": 1710145767040,
     "user": {
      "displayName": "Arindam Dey",
      "userId": "10651625546197419632"
     },
     "user_tz": -330
    },
    "id": "f3ce09f3-e160-43b3-949a-736f79a10e62",
    "outputId": "cb67287f-5108-4d7e-fa2f-a6039eada8e7"
   },
   "outputs": [
    {
     "name": "stdout",
     "output_type": "stream",
     "text": [
      "_____OBSERVATION SPACE_____ \n",
      "\n",
      "The State Space is:  4\n",
      "Sample observation [-3.4470561e+00  1.7816312e+38 -1.7396741e-01 -2.9512987e+38]\n"
     ]
    }
   ],
   "source": [
    "env_id = \"CartPole-v1\"\n",
    "env = gym.make(env_id)#,render_mode=\"human\")\n",
    "\n",
    "s_size = env.observation_space.shape[0]\n",
    "a_size = env.action_space.n\n",
    "\n",
    "print(\"_____OBSERVATION SPACE_____ \\n\")\n",
    "print(\"The State Space is: \", s_size)\n",
    "print(\"Sample observation\", env.observation_space.sample()) # Get a random observation"
   ]
  },
  {
   "cell_type": "code",
   "execution_count": 23,
   "id": "92dc078a-f91b-40e3-9da3-97fb63177f3d",
   "metadata": {
    "id": "92dc078a-f91b-40e3-9da3-97fb63177f3d"
   },
   "outputs": [],
   "source": [
    "device = T.device(\"cuda:0\" if T.cuda.is_available() else \"cpu\")"
   ]
  },
  {
   "cell_type": "code",
   "execution_count": 41,
   "id": "c9f9b2be-4c6e-4115-8b79-63805aa907fe",
   "metadata": {
    "tags": []
   },
   "outputs": [],
   "source": [
    "class ActorCritic(nn.Module):\n",
    "    def __init__(self, s_size, a_size, lyr1, lyr2):\n",
    "        super(ActorCritic, self).__init__()\n",
    "        self.s_size = s_size\n",
    "        self.lyr1 = lyr1\n",
    "        self.lyr2 = lyr2\n",
    "        self.a_size = a_size\n",
    "        self.linear1 = nn.Linear(self.s_size, self.lyr1)\n",
    "        self.linear2 = nn.Linear(self.lyr1, self.lyr2)\n",
    "        self.pi = nn.Linear(self.lyr2, a_size)\n",
    "        self.v = nn.Linear(self.lyr2, 1)\n",
    "        self.optimizer = optim.Adam(self.parameters(), lr=learning_rate)\n",
    "        \n",
    "    def forward(self, obs):\n",
    "        state = T.Tensor(obs)\n",
    "        x = F.relu(self.linear1(state))\n",
    "        x = F.relu(self.linear2(x))\n",
    "        pi = self.pi(x)\n",
    "        probs =F.softmax(pi,dim = -1)\n",
    "        v = self.v(x)\n",
    "        return (probs, v)\n",
    "    \n",
    "    def learn(self,s, a, r, s_, done):\n",
    "        \n",
    "        self.optimizer.zero_grad()\n",
    "        \n",
    "        s = T.FloatTensor(s).to(device)\n",
    "        s_ = T.FloatTensor(s_).to(device)\n",
    "\n",
    "        probs, value = agent(s)\n",
    "        _, value_ = agent(s_)\n",
    "\n",
    "        delta = r + gamma * value_*(1-int(done)) - value\n",
    "        actor_loss = -T.log(probs[a]) * delta.item()\n",
    "        critic_loss = 0.1*delta**2\n",
    "        (actor_loss + critic_loss).backward()\n",
    "        self.optimizer.step()\n",
    "        \n",
    "        return actor_loss.item(), critic_loss.item()\n",
    "    \n",
    "    def save(self, model_file):\n",
    "        T.save(self.state_dict(), model_file)\n",
    "        \n",
    "    def load(self, model_file):\n",
    "        self.load_state_dict(T.load(model_file))"
   ]
  },
  {
   "cell_type": "code",
   "execution_count": 46,
   "id": "96aabf3a-08fe-499f-aee8-b7699b50a619",
   "metadata": {
    "id": "96aabf3a-08fe-499f-aee8-b7699b50a619"
   },
   "outputs": [],
   "source": [
    "layer1 = 32\n",
    "layer2 = 64\n",
    "gamma = 0.99\n",
    "learning_rate = 0.0001\n",
    "episodes = 100_000\n",
    "\n",
    "# Average window size. The size of the silding window\n",
    "# used to calculate the mean reward across the last N episodes\n",
    "# where N is the avg_win_size\n",
    "\n",
    "avg_win_size = 20\n",
    "epi_results = deque(maxlen=avg_win_size)\n",
    "actor_loss_results = deque(maxlen=avg_win_size)\n",
    "critic_loss_results = deque(maxlen=avg_win_size)\n",
    "\n",
    "# Initialize Agent\n",
    "agent = ActorCritic(s_size, a_size, layer1, layer2).to(device)"
   ]
  },
  {
   "cell_type": "code",
   "execution_count": 47,
   "id": "7e42c01a-a9a3-4793-923b-5696b70deab4",
   "metadata": {},
   "outputs": [],
   "source": [
    "# model and log file names\n",
    "log_file_name = os.path.join('.','artefacts',f'{env_id}_actorcritic.csv')\n",
    "model_file = os.path.join('.','models',f'{env_id}_actorcritic.pth')"
   ]
  },
  {
   "cell_type": "code",
   "execution_count": null,
   "id": "3fcac59a-0b87-4ed7-9df2-3b4875cb062c",
   "metadata": {
    "colab": {
     "base_uri": "https://localhost:8080/"
    },
    "executionInfo": {
     "elapsed": 3403475,
     "status": "ok",
     "timestamp": 1710149180584,
     "user": {
      "displayName": "Arindam Dey",
      "userId": "10651625546197419632"
     },
     "user_tz": -330
    },
    "id": "3fcac59a-0b87-4ed7-9df2-3b4875cb062c",
    "outputId": "d9c7e475-4cb6-4d31-82b9-34a57f8f0b23",
    "tags": []
   },
   "outputs": [
    {
     "name": "stdout",
     "output_type": "stream",
     "text": [
      "epi = 13510 mean reward : 161.20 mean actor loss : 0.0151 mean critic loss : 0.1005 steps = 2862940\n",
      "epi = 13520 mean reward : 154.90 mean actor loss : 0.0163 mean critic loss : 0.0659 steps = 2864542\n",
      "epi = 13530 mean reward : 153.10 mean actor loss : 0.0007 mean critic loss : 0.0204 steps = 2866002\n",
      "epi = 13540 mean reward : 161.40 mean actor loss : 0.0183 mean critic loss : 0.0351 steps = 2867770\n",
      "epi = 13550 mean reward : 164.55 mean actor loss : 0.0014 mean critic loss : 0.0803 steps = 2869293\n",
      "epi = 13560 mean reward : 147.65 mean actor loss : 0.0136 mean critic loss : 0.5051 steps = 2870723\n"
     ]
    }
   ],
   "source": [
    "steps = 0\n",
    "train = True\n",
    "\n",
    "if train:\n",
    "    # Delete old trainig log if exists\n",
    "    if os.path.exists(log_file_name):\n",
    "        os.remove(log_file_name)\n",
    "\n",
    "    log_file = open(log_file_name, \"w\")\n",
    "    log_file.write(f'episode,rewards,actor_loss,critic_loss\\n')\n",
    "\n",
    "    for epi in range(episodes):\n",
    "\n",
    "        s = env.reset()[0]\n",
    "        done, trunc = False, False\n",
    "        rewards = 0\n",
    "        while not any([done, trunc]):\n",
    "\n",
    "            state = T.FloatTensor(s).to(device)\n",
    "            with T.no_grad():\n",
    "                p,_ = agent(state)\n",
    "\n",
    "            p_vals = p.detach().cpu().numpy()\n",
    "            a = np.random.choice(a_size, p=p_vals)\n",
    "            s_, r, done ,trunc , _  = env.step(a)\n",
    "\n",
    "            actor_loss, critic_loss = agent.learn(s, a, r, s_, done)\n",
    "            actor_loss_results.append(actor_loss)\n",
    "            critic_loss_results.append(critic_loss) \n",
    "\n",
    "            steps += 1\n",
    "            rewards += r\n",
    "            s = s_\n",
    "\n",
    "            if done:\n",
    "                epi_results.append(rewards)\n",
    "                break\n",
    "        \n",
    "        log_file.write(f'{epi},{np.sum(rewards):.2f},{actor_loss:.4f},{critic_loss:.4f}\\n')\n",
    "\n",
    "        if epi % 10 == 0:\n",
    "            print(f'{epi = } mean reward : {np.mean(epi_results):.2f} mean actor loss : {np.mean(actor_loss_results):.4f} mean critic loss : {np.mean(critic_loss_results):.4f} steps = {steps}')\n",
    "\n",
    "        if epi % 100 == 0:\n",
    "            clear_output()\n",
    "\n",
    "        if np.mean(epi_results)>=500:\n",
    "            break\n",
    "\n",
    "if train:\n",
    "    print(f'Saving Agent as {model_file}')\n",
    "    agent.save(model_file)\n",
    "    log_file.close()"
   ]
  },
  {
   "cell_type": "code",
   "execution_count": 49,
   "id": "4e8ee88d-2c91-455b-a9dd-c81493352816",
   "metadata": {
    "tags": []
   },
   "outputs": [],
   "source": [
    "log_file.close()"
   ]
  },
  {
   "cell_type": "code",
   "execution_count": 28,
   "id": "0b58d2f1-cb5b-41cd-9069-736d6c82d04b",
   "metadata": {},
   "outputs": [],
   "source": [
    "eval_agent = ActorCritic(s_size, a_size, layer1, layer2).to(device)\n",
    "eval_agent.load(model_file)\n",
    "df = pd.read_csv(log_file_name)\n",
    "df['mean_rewards'] = df['rewards'].rolling(avg_win_size).mean()"
   ]
  },
  {
   "cell_type": "code",
   "execution_count": 29,
   "id": "06e5f97d-f969-43ac-9a8d-d9678f71f80d",
   "metadata": {},
   "outputs": [
    {
     "data": {
      "text/plain": [
       "Text(0.5, 1.0, 'Loss')"
      ]
     },
     "execution_count": 29,
     "metadata": {},
     "output_type": "execute_result"
    },
    {
     "data": {
      "image/png": "[encoded data removed]",
      "text/plain": [
       "<Figure size 1600x400 with 3 Axes>"
      ]
     },
     "metadata": {},
     "output_type": "display_data"
    }
   ],
   "source": [
    "\n",
    "fig,ax=plt.subplots(1,3,sharex='col',sharey= False,figsize=(16,4))\n",
    "\n",
    "sns.lineplot(df['rewards'], ax = ax[0])\n",
    "sns.lineplot(df['mean_rewards'],ax = ax[0])\n",
    "ax[0].set_title('Rewards & Mean Rewards',fontsize=8)\n",
    "\n",
    "sns.lineplot(df['actor_loss'],ax = ax[1])\n",
    "ax[1].set_title('Loss',fontsize=8)"
   ]
  },
  {
   "cell_type": "code",
   "execution_count": 30,
   "id": "c1b3e989-976d-44b3-9774-6f41a6b7c871",
   "metadata": {
    "colab": {
     "base_uri": "https://localhost:8080/"
    },
    "executionInfo": {
     "elapsed": 122618,
     "status": "ok",
     "timestamp": 1710149806899,
     "user": {
      "displayName": "Arindam Dey",
      "userId": "10651625546197419632"
     },
     "user_tz": -330
    },
    "id": "c1b3e989-976d-44b3-9774-6f41a6b7c871",
    "outputId": "94c3ceff-2bcf-46a0-abd5-c37cac9503fb"
   },
   "outputs": [
    {
     "name": "stderr",
     "output_type": "stream",
     "text": [
      "C:\\Users\\arind\\anaconda3\\envs\\torch\\lib\\site-packages\\gymnasium\\envs\\classic_control\\cartpole.py:215: UserWarning: \u001b[33mWARN: You are calling render method without specifying any render mode. You can specify the render_mode at initialization, e.g. gym.make(\"CartPole-v1\", render_mode=\"rgb_array\")\u001b[0m\n",
      "  gym.logger.warn(\n"
     ]
    },
    {
     "name": "stdout",
     "output_type": "stream",
     "text": [
      "119.0\n",
      "52.0\n",
      "110.0\n",
      "59.0\n",
      "45.0\n",
      "103.0\n",
      "91.0\n",
      "100.0\n",
      "113.0\n",
      "103.0\n"
     ]
    }
   ],
   "source": [
    "eval_env = gym.make(env_id,render_mode=\"human\")\n",
    "for epi in range(10):\n",
    "\n",
    "    s = eval_env.reset()[0]\n",
    "    done, trunc = False, False\n",
    "    rewards = 0\n",
    "    while not any([done, trunc]):\n",
    "\n",
    "        state = T.FloatTensor(s).to(device)\n",
    "        with T.no_grad():\n",
    "            p,_ = eval_agent(state)\n",
    "        \n",
    "        p_vals = p.detach().cpu().numpy()\n",
    "        a = np.random.choice(a_size, p=p_vals)\n",
    "        s_, r, done ,trunc , _  = eval_env.step(a)\n",
    "        env.render()\n",
    "        rewards+=r\n",
    "        s=s_\n",
    "    print(rewards)\n",
    "eval_env.close()"
   ]
  },
  {
   "cell_type": "code",
   "execution_count": 56,
   "id": "6def3f49-2738-4e7c-ba8d-d924c9d0c0c3",
   "metadata": {},
   "outputs": [],
   "source": []
  },
  {
   "cell_type": "code",
   "execution_count": null,
   "id": "74ae9ffb-ba5b-473f-a854-dbab51bf03e2",
   "metadata": {},
   "outputs": [],
   "source": []
  }
 ],
 "metadata": {
  "accelerator": "GPU",
  "colab": {
   "gpuType": "T4",
   "provenance": []
  },
  "kernelspec": {
   "display_name": "torch",
   "language": "python",
   "name": "torch"
  },
  "language_info": {
   "codemirror_mode": {
    "name": "ipython",
    "version": 3
   },
   "file_extension": ".py",
   "mimetype": "text/x-python",
   "name": "python",
   "nbconvert_exporter": "python",
   "pygments_lexer": "ipython3",
   "version": "3.9.16"
  }
 },
 "nbformat": 4,
 "nbformat_minor": 5
}
