{
 "cells": [
  {
   "cell_type": "markdown",
   "id": "FMNBAjTne9or",
   "metadata": {
    "id": "FMNBAjTne9or"
   },
   "source": [
    "[Hands on RL Policy Gradient](https://github.com/PacktPublishing/Hands-on-Reinforcement-Learning-with-PyTorch/blob/master/Section%204/4.3%20Policy%20Gradients%20REINFORCE.ipynb)\n",
    "\n",
    "[Policy Gradient Math](https://towardsdatascience.com/policy-gradients-in-reinforcement-learning-explained-ecec7df94245)\n",
    "\n",
    "A widely used variation of REINFORCE is to subtract a baseline value from the return to reduce the variance of gradient estimation while keeping the bias unchanged (Remember we always want to do this when possible). For example, a common baseline is to subtract state-value from action-value, and if applied, we would use advantage:\n",
    "\n",
    "$$\n",
    "A(s,a) = Q(s,a) - V(s)\n",
    "$$\n",
    "\n",
    "in the gradient ascent update. This [post](https://danieltakeshi.github.io/2017/03/28/going-deeper-into-reinforcement-learning-fundamentals-of-policy-gradients/) nicely explained why a baseline works for reducing the variance, in addition to a set of fundamentals of policy gradient."
   ]
  },
  {
   "cell_type": "code",
   "execution_count": null,
   "id": "uj0_Tz5D4ZR-",
   "metadata": {
    "colab": {
     "base_uri": "https://localhost:8080/"
    },
    "executionInfo": {
     "elapsed": 107084,
     "status": "ok",
     "timestamp": 1710514211011,
     "user": {
      "displayName": "Arindam Dey",
      "userId": "10651625546197419632"
     },
     "user_tz": -330
    },
    "id": "uj0_Tz5D4ZR-",
    "outputId": "4e615863-9a99-4770-e571-76b473fdff23"
   },
   "outputs": [],
   "source": [
    "#!pip install swig\n",
    "#!pip install gymnasium[box2d]"
   ]
  },
  {
   "cell_type": "markdown",
   "id": "76ac27d3-eb12-4cbf-90c2-e725a5eafb41",
   "metadata": {},
   "source": [
    "## Actor Critic\n",
    "\n",
    "![Reinforce_bl](acritic.png) "
   ]
  },
  {
   "cell_type": "code",
   "execution_count": 26,
   "id": "168d04e4-18b5-4a32-ac2c-d787c36bf205",
   "metadata": {
    "executionInfo": {
     "elapsed": 9191,
     "status": "ok",
     "timestamp": 1710514225212,
     "user": {
      "displayName": "Arindam Dey",
      "userId": "10651625546197419632"
     },
     "user_tz": -330
    },
    "id": "168d04e4-18b5-4a32-ac2c-d787c36bf205"
   },
   "outputs": [],
   "source": [
    "import torch\n",
    "import torch.optim as optim\n",
    "import torch.nn as nn\n",
    "import torch.nn.functional as F\n",
    "import matplotlib.pyplot as plt\n",
    "import gymnasium as gym\n",
    "import numpy as np\n",
    "from IPython.display import clear_output\n",
    "from collections import deque"
   ]
  },
  {
   "cell_type": "code",
   "execution_count": 27,
   "id": "f3ce09f3-e160-43b3-949a-736f79a10e62",
   "metadata": {
    "colab": {
     "base_uri": "https://localhost:8080/"
    },
    "executionInfo": {
     "elapsed": 480,
     "status": "ok",
     "timestamp": 1710514227660,
     "user": {
      "displayName": "Arindam Dey",
      "userId": "10651625546197419632"
     },
     "user_tz": -330
    },
    "id": "f3ce09f3-e160-43b3-949a-736f79a10e62",
    "outputId": "e98d9040-c16b-44ef-9d8f-38854c96af7c"
   },
   "outputs": [],
   "source": [
    "device = torch.device(\"cuda\" if torch.cuda.is_available() else \"cpu\")"
   ]
  },
  {
   "cell_type": "code",
   "execution_count": 28,
   "id": "07755d47-7a8d-4492-86dd-7e23476e87e7",
   "metadata": {},
   "outputs": [
    {
     "name": "stdout",
     "output_type": "stream",
     "text": [
      "_____OBSERVATION SPACE_____ \n",
      "\n",
      "The State Space is:  8\n",
      "Sample observation [ 0.18763174 -1.4121945   2.0076056  -3.8539116   0.7413541  -1.8592845\n",
      "  0.39006355  0.3410315 ]\n"
     ]
    }
   ],
   "source": [
    "env_id = \"LunarLander-v2\"\n",
    "env = gym.make(env_id)#,render_mode=\"human\")\n",
    "\n",
    "s_size = env.observation_space.shape[0]\n",
    "a_size = env.action_space.n\n",
    "\n",
    "print(\"_____OBSERVATION SPACE_____ \\n\")\n",
    "print(\"The State Space is: \", s_size)\n",
    "print(\"Sample observation\", env.observation_space.sample()) # Get a random observation"
   ]
  },
  {
   "cell_type": "code",
   "execution_count": 30,
   "id": "96aabf3a-08fe-499f-aee8-b7699b50a619",
   "metadata": {
    "executionInfo": {
     "elapsed": 3269,
     "status": "ok",
     "timestamp": 1710514241598,
     "user": {
      "displayName": "Arindam Dey",
      "userId": "10651625546197419632"
     },
     "user_tz": -330
    },
    "id": "96aabf3a-08fe-499f-aee8-b7699b50a619"
   },
   "outputs": [],
   "source": [
    "env = gym.make('LunarLander-v2')#, render_mode=\"human\")\n",
    "#gym.make(env_id,render_mode=\"human\")\n",
    "env.reset()\n",
    "\n",
    "#prev_screen = env.render()\n",
    "#plt.imshow(prev_screen)\n",
    "\n",
    "for i in range(50):\n",
    "    env.render()\n",
    "    action = env.action_space.sample()\n",
    "    obs, reward, done, info, _ = env.step(action)\n",
    "    if done:\n",
    "        env.reset()\n",
    "        \n",
    "env.close()"
   ]
  },
  {
   "cell_type": "code",
   "execution_count": 31,
   "id": "10dbc8cc-8954-40f6-bb18-fbe460efb580",
   "metadata": {},
   "outputs": [],
   "source": [
    "class ActorNet(nn.Module):\n",
    "    def __init__(self, state_size, action_size, hidden_size):\n",
    "        super(ActorNet, self).__init__()\n",
    "        self.dense_layer_1 = nn.Linear(state_size, hidden_size)\n",
    "        self.dense_layer_2 = nn.Linear(hidden_size, hidden_size)\n",
    "        self.output = nn.Linear(hidden_size, action_size)\n",
    "    \n",
    "    def forward(self, x):\n",
    "        x = torch.clamp(x,-1.1,1.1)\n",
    "        x = F.relu(self.dense_layer_1(x))\n",
    "        x = F.relu(self.dense_layer_2(x))\n",
    "        return F.softmax(self.output(x),dim=-1) + 1e-8 #-1 to take softmax of last dimension\n",
    "    \n",
    "class CriticNet(nn.Module):\n",
    "    def __init__(self, state_size, hidden_size):\n",
    "        super(CriticNet, self).__init__()\n",
    "        self.dense_layer_1 = nn.Linear(state_size, hidden_size)\n",
    "        self.dense_layer_2 = nn.Linear(hidden_size, hidden_size)\n",
    "        self.output = nn.Linear(hidden_size, 1)\n",
    "    \n",
    "    def forward(self, x):\n",
    "        x = torch.clamp(x,-1.1,1.1)\n",
    "        x = F.relu(self.dense_layer_1(x))\n",
    "        x = F.relu(self.dense_layer_2(x))\n",
    "        return self.output(x)"
   ]
  },
  {
   "cell_type": "code",
   "execution_count": 32,
   "id": "8da7b5f8",
   "metadata": {},
   "outputs": [],
   "source": [
    "class ActorCriticAgent():\n",
    "    def __init__(self, state_size, action_size, hidden_size, actor_lr, critic_lr, discount ):\n",
    "        self.action_size = action_size\n",
    "        self.actor_net = ActorNet(state_size, action_size, hidden_size).to(device)\n",
    "        self.critic_net = CriticNet(state_size, hidden_size).to(device)\n",
    "        self.actor_optimizer = optim.Adam(self.actor_net.parameters(), lr=actor_lr)\n",
    "        self.critic_optimizer = optim.Adam(self.critic_net.parameters(), lr=critic_lr)\n",
    "        self.discount = discount\n",
    "        \n",
    "    def select_action(self, state):\n",
    "        #get action probs then randomly sample from the probabilities\n",
    "        with torch.no_grad():\n",
    "            input_state = torch.FloatTensor(state).to(device)\n",
    "            action_probs = self.actor_net(input_state)\n",
    "            #detach and turn to numpy to use with np.random.choice()\n",
    "            action_probs = action_probs.detach().cpu().numpy()\n",
    "            action = np.random.choice(np.arange(self.action_size), p=action_probs)\n",
    "        return action"
   ]
  },
  {
   "cell_type": "code",
   "execution_count": 33,
   "id": "a31aafe5",
   "metadata": {},
   "outputs": [],
   "source": [
    "hidden_layer = 64\n",
    "gamma = 0.995\n",
    "actor_lr = 0.001\n",
    "critic_lr = 0.001\n",
    "episodes = 100_000\n",
    "avg_win_size = 50\n",
    "epi_results = deque(maxlen=avg_win_size)\n",
    "\n",
    "# create agent\n",
    "agent = ActorCriticAgent(s_size, a_size, hidden_layer, actor_lr, critic_lr, gamma)"
   ]
  },
  {
   "cell_type": "code",
   "execution_count": 35,
   "id": "b0b2a561-1c03-46eb-a4fe-113dc4c0e45f",
   "metadata": {},
   "outputs": [],
   "source": [
    "s = env.reset()[0]\n",
    "obs = torch.FloatTensor(np.expand_dims(s,0)).to(device)\n",
    "p_vals = agent.actor_net(obs)"
   ]
  },
  {
   "cell_type": "code",
   "execution_count": 36,
   "id": "30ddadca-947b-437a-94ae-bd1572f0db47",
   "metadata": {},
   "outputs": [
    {
     "data": {
      "text/plain": [
       "tensor(1., device='cuda:0', grad_fn=<SumBackward0>)"
      ]
     },
     "execution_count": 36,
     "metadata": {},
     "output_type": "execute_result"
    }
   ],
   "source": [
    "p_vals.sum()"
   ]
  },
  {
   "cell_type": "code",
   "execution_count": 37,
   "id": "06be6fe9",
   "metadata": {},
   "outputs": [],
   "source": [
    "for epi in range(10):\n",
    "\n",
    "    s = env.reset()[0]\n",
    "    done , trunc = False, False\n",
    "    states, rewards, next_states , actions, dones  = [], [], [], [], []\n",
    "    win = 0\n",
    "\n",
    "    while not any([done, trunc]):\n",
    "\n",
    "        states.append(s)\n",
    "        obs = torch.FloatTensor(np.expand_dims(s,0)).to(device)\n",
    "\n",
    "        with torch.no_grad():\n",
    "            p_vals = agent.actor_net(obs)\n",
    "            p_vals = torch.squeeze(p_vals)\n",
    "\n",
    "        p_vals = p_vals.detach().cpu().numpy()\n",
    "        a = np.random.choice(a_size, p=p_vals)\n",
    "\n",
    "        s_, r, done ,trunc, _  = env.step(a)\n",
    "        actions.append(a)\n",
    "        rewards.append(r)\n",
    "        next_states.append(s_)\n",
    "        dones.append(int(done))\n",
    "        s=np.copy(s_)\n",
    "        \n",
    "        \n",
    "        "
   ]
  },
  {
   "cell_type": "code",
   "execution_count": 40,
   "id": "70bdee4b",
   "metadata": {},
   "outputs": [
    {
     "name": "stderr",
     "output_type": "stream",
     "text": [
      "C:\\Users\\arind\\AppData\\Local\\Temp\\ipykernel_20944\\178224436.py:1: UserWarning: Creating a tensor from a list of numpy.ndarrays is extremely slow. Please consider converting the list to a single numpy.ndarray with numpy.array() before converting to a tensor. (Triggered internally at C:\\actions-runner\\_work\\pytorch\\pytorch\\builder\\windows\\pytorch\\torch\\csrc\\utils\\tensor_new.cpp:248.)\n",
      "  state_t = torch.FloatTensor(states).to(device)\n"
     ]
    }
   ],
   "source": []
  },
  {
   "cell_type": "code",
   "execution_count": 41,
   "id": "c86960fb",
   "metadata": {},
   "outputs": [
    {
     "data": {
      "text/plain": [
       "tensor([[ 6.4694e-03,  1.4216e+00,  6.5528e-01,  4.7632e-01, -7.4898e-03,\n",
       "         -1.4843e-01,  0.0000e+00,  0.0000e+00],\n",
       "        [ 1.2873e-02,  1.4318e+00,  6.4615e-01,  4.5112e-01, -1.3170e-02,\n",
       "         -1.1361e-01,  0.0000e+00,  0.0000e+00],\n",
       "        [ 1.9342e-02,  1.4413e+00,  6.5419e-01,  4.2409e-01, -2.0457e-02,\n",
       "         -1.4577e-01,  0.0000e+00,  0.0000e+00],\n",
       "        [ 2.5810e-02,  1.4503e+00,  6.5421e-01,  3.9742e-01, -2.7743e-02,\n",
       "         -1.4573e-01,  0.0000e+00,  0.0000e+00],\n",
       "        [ 3.2364e-02,  1.4586e+00,  6.6488e-01,  3.7056e-01, -3.7164e-02,\n",
       "         -1.8844e-01,  0.0000e+00,  0.0000e+00],\n",
       "        [ 3.8918e-02,  1.4664e+00,  6.6491e-01,  3.4389e-01, -4.6583e-02,\n",
       "         -1.8839e-01,  0.0000e+00,  0.0000e+00],\n",
       "        [ 4.5531e-02,  1.4735e+00,  6.7241e-01,  3.1668e-01, -5.7506e-02,\n",
       "         -2.1848e-01,  0.0000e+00,  0.0000e+00],\n",
       "        [ 5.2069e-02,  1.4800e+00,  6.6287e-01,  2.9029e-01, -6.6506e-02,\n",
       "         -1.8001e-01,  0.0000e+00,  0.0000e+00],\n",
       "        [ 5.8522e-02,  1.4860e+00,  6.5218e-01,  2.6453e-01, -7.3339e-02,\n",
       "         -1.3667e-01,  0.0000e+00,  0.0000e+00],\n",
       "        [ 6.4911e-02,  1.4914e+00,  6.4420e-01,  2.3801e-01, -7.8567e-02,\n",
       "         -1.0457e-01,  0.0000e+00,  0.0000e+00],\n",
       "        [ 7.1301e-02,  1.4961e+00,  6.4421e-01,  2.1134e-01, -8.3795e-02,\n",
       "         -1.0456e-01,  0.0000e+00,  0.0000e+00],\n",
       "        [ 7.7690e-02,  1.5003e+00,  6.4423e-01,  1.8467e-01, -8.9021e-02,\n",
       "         -1.0454e-01,  0.0000e+00,  0.0000e+00],\n",
       "        [ 8.4157e-02,  1.5038e+00,  6.5391e-01,  1.5713e-01, -9.6207e-02,\n",
       "         -1.4372e-01,  0.0000e+00,  0.0000e+00],\n",
       "        [ 9.0690e-02,  1.5083e+00,  6.6064e-01,  1.9977e-01, -1.0355e-01,\n",
       "         -1.4694e-01,  0.0000e+00,  0.0000e+00],\n",
       "        [ 9.7222e-02,  1.5122e+00,  6.6066e-01,  1.7308e-01, -1.1090e-01,\n",
       "         -1.4692e-01,  0.0000e+00,  0.0000e+00],\n",
       "        [ 1.0382e-01,  1.5155e+00,  6.6936e-01,  1.4626e-01, -1.1998e-01,\n",
       "         -1.8162e-01,  0.0000e+00,  0.0000e+00],\n",
       "        [ 1.1043e-01,  1.5183e+00,  6.6939e-01,  1.1958e-01, -1.2906e-01,\n",
       "         -1.8157e-01,  0.0000e+00,  0.0000e+00],\n",
       "        [ 1.1697e-01,  1.5204e+00,  6.6163e-01,  9.3536e-02, -1.3656e-01,\n",
       "         -1.5001e-01,  0.0000e+00,  0.0000e+00],\n",
       "        [ 1.2351e-01,  1.5219e+00,  6.6165e-01,  6.6861e-02, -1.4406e-01,\n",
       "         -1.5000e-01,  0.0000e+00,  0.0000e+00],\n",
       "        [ 1.3013e-01,  1.5228e+00,  6.7196e-01,  3.9407e-02, -1.5364e-01,\n",
       "         -1.9163e-01,  0.0000e+00,  0.0000e+00],\n",
       "        [ 1.3666e-01,  1.5231e+00,  6.5982e-01,  1.4181e-02, -1.6072e-01,\n",
       "         -1.4171e-01,  0.0000e+00,  0.0000e+00],\n",
       "        [ 1.4328e-01,  1.5229e+00,  6.7094e-01, -1.3388e-02, -1.7006e-01,\n",
       "         -1.8674e-01,  0.0000e+00,  0.0000e+00],\n",
       "        [ 1.5016e-01,  1.5231e+00,  6.9725e-01,  1.1246e-02, -1.7876e-01,\n",
       "         -1.7410e-01,  0.0000e+00,  0.0000e+00],\n",
       "        [ 1.5696e-01,  1.5228e+00,  6.8561e-01, -1.3932e-02, -1.8507e-01,\n",
       "         -1.2611e-01,  0.0000e+00,  0.0000e+00],\n",
       "        [ 1.6380e-01,  1.5229e+00,  6.9126e-01,  1.0499e-03, -1.9166e-01,\n",
       "         -1.3189e-01,  0.0000e+00,  0.0000e+00],\n",
       "        [ 1.7072e-01,  1.5223e+00,  7.0033e-01, -2.7681e-02, -2.0062e-01,\n",
       "         -1.7927e-01,  0.0000e+00,  0.0000e+00],\n",
       "        [ 1.7778e-01,  1.5223e+00,  7.1496e-01, -2.1516e-03, -2.0926e-01,\n",
       "         -1.7272e-01,  0.0000e+00,  0.0000e+00],\n",
       "        [ 1.8485e-01,  1.5216e+00,  7.1495e-01, -2.8824e-02, -2.1789e-01,\n",
       "         -1.7271e-01,  0.0000e+00,  0.0000e+00],\n",
       "        [ 1.9182e-01,  1.5204e+00,  7.0410e-01, -5.4213e-02, -2.2430e-01,\n",
       "         -1.2820e-01,  0.0000e+00,  0.0000e+00],\n",
       "        [ 1.9876e-01,  1.5196e+00,  7.0123e-01, -3.9055e-02, -2.3153e-01,\n",
       "         -1.4446e-01,  0.0000e+00,  0.0000e+00],\n",
       "        [ 2.0577e-01,  1.5181e+00,  7.0887e-01, -6.6479e-02, -2.4031e-01,\n",
       "         -1.7557e-01,  0.0000e+00,  0.0000e+00],\n",
       "        [ 2.1283e-01,  1.5160e+00,  7.1699e-01, -9.3934e-02, -2.5073e-01,\n",
       "         -2.0855e-01,  0.0000e+00,  0.0000e+00],\n",
       "        [ 2.1981e-01,  1.5134e+00,  7.0536e-01, -1.1890e-01, -2.5874e-01,\n",
       "         -1.6023e-01,  0.0000e+00,  0.0000e+00],\n",
       "        [ 2.2678e-01,  1.5102e+00,  7.0536e-01, -1.4557e-01, -2.6676e-01,\n",
       "         -1.6023e-01,  0.0000e+00,  0.0000e+00],\n",
       "        [ 2.3386e-01,  1.5072e+00,  7.1589e-01, -1.3197e-01, -2.7505e-01,\n",
       "         -1.6583e-01,  0.0000e+00,  0.0000e+00],\n",
       "        [ 2.4102e-01,  1.5037e+00,  7.2559e-01, -1.6024e-01, -2.8537e-01,\n",
       "         -2.0650e-01,  0.0000e+00,  0.0000e+00],\n",
       "        [ 2.4826e-01,  1.4995e+00,  7.3704e-01, -1.8919e-01, -2.9814e-01,\n",
       "         -2.5539e-01,  0.0000e+00,  0.0000e+00],\n",
       "        [ 2.5543e-01,  1.4947e+00,  7.2732e-01, -2.1368e-01, -3.0881e-01,\n",
       "         -2.1333e-01,  0.0000e+00,  0.0000e+00],\n",
       "        [ 2.6284e-01,  1.4899e+00,  7.5069e-01, -2.1528e-01, -3.1895e-01,\n",
       "         -2.0283e-01,  0.0000e+00,  0.0000e+00],\n",
       "        [ 2.7031e-01,  1.4845e+00,  7.5860e-01, -2.4409e-01, -3.3085e-01,\n",
       "         -2.3803e-01,  0.0000e+00,  0.0000e+00],\n",
       "        [ 2.7792e-01,  1.4792e+00,  7.7209e-01, -2.3661e-01, -3.4294e-01,\n",
       "         -2.4180e-01,  0.0000e+00,  0.0000e+00],\n",
       "        [ 2.8590e-01,  1.4747e+00,  8.0884e-01, -2.0416e-01, -3.5480e-01,\n",
       "         -2.3716e-01,  0.0000e+00,  0.0000e+00],\n",
       "        [ 2.9396e-01,  1.4695e+00,  8.2002e-01, -2.3414e-01, -3.6919e-01,\n",
       "         -2.8782e-01,  0.0000e+00,  0.0000e+00],\n",
       "        [ 3.0210e-01,  1.4636e+00,  8.2926e-01, -2.6368e-01, -3.8570e-01,\n",
       "         -3.3020e-01,  0.0000e+00,  0.0000e+00],\n",
       "        [ 3.1034e-01,  1.4582e+00,  8.4058e-01, -2.4602e-01, -4.0292e-01,\n",
       "         -3.4429e-01,  0.0000e+00,  0.0000e+00],\n",
       "        [ 3.1850e-01,  1.4522e+00,  8.3022e-01, -2.6998e-01, -4.1782e-01,\n",
       "         -2.9811e-01,  0.0000e+00,  0.0000e+00],\n",
       "        [ 3.2674e-01,  1.4456e+00,  8.3887e-01, -2.9918e-01, -4.3470e-01,\n",
       "         -3.3751e-01,  0.0000e+00,  0.0000e+00],\n",
       "        [ 3.3497e-01,  1.4384e+00,  8.3886e-01, -3.2587e-01, -4.5157e-01,\n",
       "         -3.3750e-01,  0.0000e+00,  0.0000e+00],\n",
       "        [ 3.4375e-01,  1.4318e+00,  8.9239e-01, -2.9814e-01, -4.6784e-01,\n",
       "         -3.2533e-01,  0.0000e+00,  0.0000e+00],\n",
       "        [ 3.5306e-01,  1.4257e+00,  9.4555e-01, -2.7416e-01, -4.8346e-01,\n",
       "         -3.1253e-01,  0.0000e+00,  0.0000e+00],\n",
       "        [ 3.6246e-01,  1.4190e+00,  9.5538e-01, -3.0455e-01, -5.0149e-01,\n",
       "         -3.6043e-01,  0.0000e+00,  0.0000e+00],\n",
       "        [ 3.7192e-01,  1.4116e+00,  9.6483e-01, -3.3517e-01, -5.2188e-01,\n",
       "         -4.0797e-01,  0.0000e+00,  0.0000e+00],\n",
       "        [ 3.8172e-01,  1.4043e+00,  9.9712e-01, -3.3371e-01, -5.4194e-01,\n",
       "         -4.0121e-01,  0.0000e+00,  0.0000e+00],\n",
       "        [ 3.9159e-01,  1.3962e+00,  1.0069e+00, -3.6483e-01, -5.6456e-01,\n",
       "         -4.5223e-01,  0.0000e+00,  0.0000e+00],\n",
       "        [ 4.0140e-01,  1.3877e+00,  9.9744e-01, -3.8803e-01, -5.8486e-01,\n",
       "         -4.0606e-01,  0.0000e+00,  0.0000e+00],\n",
       "        [ 4.1120e-01,  1.3785e+00,  9.9741e-01, -4.1473e-01, -6.0516e-01,\n",
       "         -4.0605e-01,  0.0000e+00,  0.0000e+00],\n",
       "        [ 4.2094e-01,  1.3688e+00,  9.8916e-01, -4.3787e-01, -6.2335e-01,\n",
       "         -3.6368e-01,  0.0000e+00,  0.0000e+00],\n",
       "        [ 4.3068e-01,  1.3585e+00,  9.8913e-01, -4.6456e-01, -6.4153e-01,\n",
       "         -3.6367e-01,  0.0000e+00,  0.0000e+00],\n",
       "        [ 4.4038e-01,  1.3477e+00,  9.8309e-01, -4.8781e-01, -6.5797e-01,\n",
       "         -3.2876e-01,  0.0000e+00,  0.0000e+00],\n",
       "        [ 4.5056e-01,  1.3368e+00,  1.0303e+00, -4.8939e-01, -6.7371e-01,\n",
       "         -3.1487e-01,  0.0000e+00,  0.0000e+00],\n",
       "        [ 4.6066e-01,  1.3254e+00,  1.0210e+00, -5.1144e-01, -6.8692e-01,\n",
       "         -2.6416e-01,  0.0000e+00,  0.0000e+00],\n",
       "        [ 4.7117e-01,  1.3145e+00,  1.0614e+00, -4.9137e-01, -7.0077e-01,\n",
       "         -2.7700e-01,  0.0000e+00,  0.0000e+00],\n",
       "        [ 4.8160e-01,  1.3031e+00,  1.0521e+00, -5.1311e-01, -7.1199e-01,\n",
       "         -2.2449e-01,  0.0000e+00,  0.0000e+00],\n",
       "        [ 4.9210e-01,  1.2910e+00,  1.0602e+00, -5.4439e-01, -7.2559e-01,\n",
       "         -2.7188e-01,  0.0000e+00,  0.0000e+00],\n",
       "        [ 5.0253e-01,  1.2784e+00,  1.0514e+00, -5.6523e-01, -7.3640e-01,\n",
       "         -2.1630e-01,  0.0000e+00,  0.0000e+00],\n",
       "        [ 5.1302e-01,  1.2651e+00,  1.0578e+00, -5.9620e-01, -7.4926e-01,\n",
       "         -2.5708e-01,  0.0000e+00,  0.0000e+00],\n",
       "        [ 5.2355e-01,  1.2511e+00,  1.0647e+00, -6.2771e-01, -7.6437e-01,\n",
       "         -3.0234e-01,  0.0000e+00,  0.0000e+00],\n",
       "        [ 5.3403e-01,  1.2366e+00,  1.0569e+00, -6.4962e-01, -7.7711e-01,\n",
       "         -2.5466e-01,  0.0000e+00,  0.0000e+00],\n",
       "        [ 5.4444e-01,  1.2217e+00,  1.0489e+00, -6.7056e-01, -7.8718e-01,\n",
       "         -2.0153e-01,  0.0000e+00,  0.0000e+00],\n",
       "        [ 5.5491e-01,  1.2060e+00,  1.0549e+00, -7.0149e-01, -7.9925e-01,\n",
       "         -2.4136e-01,  0.0000e+00,  0.0000e+00],\n",
       "        [ 5.6532e-01,  1.1899e+00,  1.0478e+00, -7.2267e-01, -8.0884e-01,\n",
       "         -1.9178e-01,  0.0000e+00,  0.0000e+00],\n",
       "        [ 5.7566e-01,  1.1732e+00,  1.0394e+00, -7.4365e-01, -8.1571e-01,\n",
       "         -1.3740e-01,  0.0000e+00,  0.0000e+00],\n",
       "        [ 5.8643e-01,  1.1564e+00,  1.0815e+00, -7.4865e-01, -8.2233e-01,\n",
       "         -1.3235e-01,  0.0000e+00,  0.0000e+00],\n",
       "        [ 5.9715e-01,  1.1392e+00,  1.0739e+00, -7.6926e-01, -8.2624e-01,\n",
       "         -7.8292e-02,  0.0000e+00,  0.0000e+00],\n",
       "        [ 6.0792e-01,  1.1212e+00,  1.0813e+00, -8.0079e-01, -8.3251e-01,\n",
       "         -1.2531e-01,  0.0000e+00,  0.0000e+00],\n",
       "        [ 6.1926e-01,  1.1031e+00,  1.1383e+00, -8.0716e-01, -8.3800e-01,\n",
       "         -1.0994e-01,  0.0000e+00,  0.0000e+00],\n",
       "        [ 6.3065e-01,  1.0843e+00,  1.1435e+00, -8.3808e-01, -8.4539e-01,\n",
       "         -1.4773e-01,  0.0000e+00,  0.0000e+00],\n",
       "        [ 6.4208e-01,  1.0649e+00,  1.1492e+00, -8.6908e-01, -8.5475e-01,\n",
       "         -1.8718e-01,  0.0000e+00,  0.0000e+00],\n",
       "        [ 6.5346e-01,  1.0449e+00,  1.1434e+00, -8.9195e-01, -8.6227e-01,\n",
       "         -1.5036e-01,  0.0000e+00,  0.0000e+00],\n",
       "        [ 6.6529e-01,  1.0248e+00,  1.1879e+00, -8.9700e-01, -8.6957e-01,\n",
       "         -1.4613e-01,  0.0000e+00,  0.0000e+00],\n",
       "        [ 6.7762e-01,  1.0050e+00,  1.2383e+00, -8.8592e-01, -8.7740e-01,\n",
       "         -1.5655e-01,  0.0000e+00,  0.0000e+00],\n",
       "        [ 6.8996e-01,  9.8453e-01,  1.2383e+00, -9.1259e-01, -8.8523e-01,\n",
       "         -1.5655e-01,  0.0000e+00,  0.0000e+00],\n",
       "        [ 7.0229e-01,  9.6349e-01,  1.2383e+00, -9.3926e-01, -8.9306e-01,\n",
       "         -1.5655e-01,  0.0000e+00,  0.0000e+00],\n",
       "        [ 7.1457e-01,  9.4196e-01,  1.2312e+00, -9.5942e-01, -8.9807e-01,\n",
       "         -1.0033e-01,  0.0000e+00,  0.0000e+00],\n",
       "        [ 7.2685e-01,  9.1983e-01,  1.2312e+00, -9.8609e-01, -9.0309e-01,\n",
       "         -1.0033e-01,  0.0000e+00,  0.0000e+00],\n",
       "        [ 7.3919e-01,  8.9700e-01,  1.2387e+00, -1.0190e+00, -9.1090e-01,\n",
       "         -1.5629e-01,  0.0000e+00,  0.0000e+00],\n",
       "        [ 7.5228e-01,  8.7420e-01,  1.3139e+00, -1.0173e+00, -9.1812e-01,\n",
       "         -1.4427e-01,  0.0000e+00,  0.0000e+00],\n",
       "        [ 7.6534e-01,  8.5089e-01,  1.3084e+00, -1.0384e+00, -9.2300e-01,\n",
       "         -9.7631e-02,  0.0000e+00,  0.0000e+00],\n",
       "        [ 7.7839e-01,  8.2699e-01,  1.3084e+00, -1.0651e+00, -9.2788e-01,\n",
       "         -9.7631e-02,  0.0000e+00,  0.0000e+00],\n",
       "        [ 7.9200e-01,  8.0333e-01,  1.3646e+00, -1.0544e+00, -9.3331e-01,\n",
       "         -1.0849e-01,  0.0000e+00,  0.0000e+00],\n",
       "        [ 8.0562e-01,  7.7907e-01,  1.3646e+00, -1.0810e+00, -9.3873e-01,\n",
       "         -1.0849e-01,  0.0000e+00,  0.0000e+00],\n",
       "        [ 8.1918e-01,  7.5433e-01,  1.3578e+00, -1.1011e+00, -9.4133e-01,\n",
       "         -5.1978e-02,  0.0000e+00,  0.0000e+00],\n",
       "        [ 8.3279e-01,  7.2891e-01,  1.3637e+00, -1.1325e+00, -9.4610e-01,\n",
       "         -9.5379e-02,  0.0000e+00,  0.0000e+00],\n",
       "        [ 8.4634e-01,  7.0298e-01,  1.3570e+00, -1.1536e+00, -9.4836e-01,\n",
       "         -4.5242e-02,  0.0000e+00,  0.0000e+00],\n",
       "        [ 8.5995e-01,  6.7637e-01,  1.3626e+00, -1.1848e+00, -9.5268e-01,\n",
       "         -8.6427e-02,  0.0000e+00,  0.0000e+00],\n",
       "        [ 8.7355e-01,  6.4917e-01,  1.3626e+00, -1.2115e+00, -9.5700e-01,\n",
       "         -8.6428e-02,  0.0000e+00,  0.0000e+00],\n",
       "        [ 8.8718e-01,  6.2127e-01,  1.3676e+00, -1.2435e+00, -9.6355e-01,\n",
       "         -1.3105e-01,  0.0000e+00,  0.0000e+00],\n",
       "        [ 9.0082e-01,  5.9277e-01,  1.3676e+00, -1.2702e+00, -9.7011e-01,\n",
       "         -1.3105e-01,  0.0000e+00,  0.0000e+00],\n",
       "        [ 9.1446e-01,  5.6368e-01,  1.3676e+00, -1.2969e+00, -9.7666e-01,\n",
       "         -1.3105e-01,  0.0000e+00,  0.0000e+00],\n",
       "        [ 9.2807e-01,  5.3408e-01,  1.3628e+00, -1.3179e+00, -9.8091e-01,\n",
       "         -8.4995e-02,  0.0000e+00,  0.0000e+00],\n",
       "        [ 9.4170e-01,  5.0379e-01,  1.3673e+00, -1.3494e+00, -9.8717e-01,\n",
       "         -1.2513e-01,  0.0000e+00,  0.0000e+00],\n",
       "        [ 9.5534e-01,  4.7291e-01,  1.3673e+00, -1.3760e+00, -9.9342e-01,\n",
       "         -1.2513e-01,  0.0000e+00,  0.0000e+00],\n",
       "        [ 9.6898e-01,  4.4143e-01,  1.3673e+00, -1.4027e+00, -9.9968e-01,\n",
       "         -1.2513e-01,  0.0000e+00,  0.0000e+00],\n",
       "        [ 9.8262e-01,  4.0935e-01,  1.3673e+00, -1.4294e+00, -1.0059e+00,\n",
       "         -1.2513e-01,  0.0000e+00,  0.0000e+00],\n",
       "        [ 9.9626e-01,  3.7667e-01,  1.3673e+00, -1.4560e+00, -1.0122e+00,\n",
       "         -1.2513e-01,  0.0000e+00,  0.0000e+00]], device='cuda:0')"
      ]
     },
     "execution_count": 41,
     "metadata": {},
     "output_type": "execute_result"
    }
   ],
   "source": [
    "state_t"
   ]
  },
  {
   "cell_type": "code",
   "execution_count": null,
   "id": "334a8c4d",
   "metadata": {},
   "outputs": [],
   "source": []
  }
 ],
 "metadata": {
  "colab": {
   "provenance": []
  },
  "kernelspec": {
   "display_name": "torch",
   "language": "python",
   "name": "torch"
  },
  "language_info": {
   "codemirror_mode": {
    "name": "ipython",
    "version": 3
   },
   "file_extension": ".py",
   "mimetype": "text/x-python",
   "name": "python",
   "nbconvert_exporter": "python",
   "pygments_lexer": "ipython3",
   "version": "3.9.16"
  }
 },
 "nbformat": 4,
 "nbformat_minor": 5
}
