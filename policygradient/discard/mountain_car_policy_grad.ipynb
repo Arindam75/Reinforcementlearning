{
 "cells": [
  {
   "cell_type": "code",
   "execution_count": null,
   "id": "S8jAz4X4CbQQ",
   "metadata": {
    "colab": {
     "base_uri": "https://localhost:8080/"
    },
    "id": "S8jAz4X4CbQQ",
    "outputId": "d7e669aa-fcb4-4fbc-faaa-683a5bff1602"
   },
   "outputs": [
    {
     "name": "stdout",
     "output_type": "stream",
     "text": [
      "Collecting swig\n",
      "  Downloading swig-4.2.0-py2.py3-none-manylinux_2_5_x86_64.manylinux1_x86_64.whl (1.9 MB)\n",
      "\u001b[2K     \u001b[90m━━━━━━━━━━━━━━━━━━━━━━━━━━━━━━━━━━━━━━━━\u001b[0m \u001b[32m1.9/1.9 MB\u001b[0m \u001b[31m8.1 MB/s\u001b[0m eta \u001b[36m0:00:00\u001b[0m\n",
      "\u001b[?25hInstalling collected packages: swig\n",
      "Successfully installed swig-4.2.0\n",
      "Collecting gymnasium[box2d]\n",
      "  Downloading gymnasium-0.29.1-py3-none-any.whl (953 kB)\n",
      "\u001b[2K     \u001b[90m━━━━━━━━━━━━━━━━━━━━━━━━━━━━━━━━━━━━━━━━\u001b[0m \u001b[32m953.9/953.9 kB\u001b[0m \u001b[31m5.7 MB/s\u001b[0m eta \u001b[36m0:00:00\u001b[0m\n",
      "\u001b[?25hRequirement already satisfied: numpy>=1.21.0 in /usr/local/lib/python3.10/dist-packages (from gymnasium[box2d]) (1.23.5)\n",
      "Requirement already satisfied: cloudpickle>=1.2.0 in /usr/local/lib/python3.10/dist-packages (from gymnasium[box2d]) (2.2.1)\n",
      "Requirement already satisfied: typing-extensions>=4.3.0 in /usr/local/lib/python3.10/dist-packages (from gymnasium[box2d]) (4.9.0)\n",
      "Collecting farama-notifications>=0.0.1 (from gymnasium[box2d])\n",
      "  Downloading Farama_Notifications-0.0.4-py3-none-any.whl (2.5 kB)\n",
      "Collecting box2d-py==2.3.5 (from gymnasium[box2d])\n",
      "  Downloading box2d-py-2.3.5.tar.gz (374 kB)\n",
      "\u001b[2K     \u001b[90m━━━━━━━━━━━━━━━━━━━━━━━━━━━━━━━━━━━━━━━━\u001b[0m \u001b[32m374.4/374.4 kB\u001b[0m \u001b[31m34.6 MB/s\u001b[0m eta \u001b[36m0:00:00\u001b[0m\n",
      "\u001b[?25h  Preparing metadata (setup.py) ... \u001b[?25l\u001b[?25hdone\n",
      "Requirement already satisfied: pygame>=2.1.3 in /usr/local/lib/python3.10/dist-packages (from gymnasium[box2d]) (2.5.2)\n",
      "Requirement already satisfied: swig==4.* in /usr/local/lib/python3.10/dist-packages (from gymnasium[box2d]) (4.2.0)\n",
      "Building wheels for collected packages: box2d-py\n"
     ]
    }
   ],
   "source": [
    "!pip install swig\n",
    "!pip install gymnasium[box2d]"
   ]
  },
  {
   "cell_type": "code",
   "execution_count": 2,
   "id": "168d04e4-18b5-4a32-ac2c-d787c36bf205",
   "metadata": {
    "id": "168d04e4-18b5-4a32-ac2c-d787c36bf205"
   },
   "outputs": [],
   "source": [
    "import torch\n",
    "from torch import cuda, device, distributions\n",
    "import torch.nn as nn\n",
    "import torch.nn.functional as F\n",
    "import torch.optim as optim\n",
    "from torch.distributions import Categorical\n",
    "import math\n",
    "\n",
    "import gymnasium as gym\n",
    "import os, random\n",
    "from pathlib import Path\n",
    "from collections import deque\n",
    "\n",
    "import pandas as pd\n",
    "import numpy as np\n",
    "import re\n",
    "\n",
    "import matplotlib.pyplot as plt\n",
    "import seaborn as sns\n",
    "from IPython.display import clear_output"
   ]
  },
  {
   "cell_type": "code",
   "execution_count": 3,
   "id": "f3ce09f3-e160-43b3-949a-736f79a10e62",
   "metadata": {
    "colab": {
     "base_uri": "https://localhost:8080/"
    },
    "executionInfo": {
     "elapsed": 414,
     "status": "ok",
     "timestamp": 1707539372388,
     "user": {
      "displayName": "Arindam Dey",
      "userId": "10651625546197419632"
     },
     "user_tz": -330
    },
    "id": "f3ce09f3-e160-43b3-949a-736f79a10e62",
    "outputId": "c0f1d28f-24fd-4be4-9336-91f881071f3b"
   },
   "outputs": [
    {
     "name": "stdout",
     "output_type": "stream",
     "text": [
      "_____OBSERVATION SPACE_____ \n",
      "\n",
      "The State Space is:  2\n",
      "Sample observation [-0.6105495   0.06882202]\n"
     ]
    }
   ],
   "source": [
    "env_id = \"MountainCar-v0\"\n",
    "env = gym.make(env_id)#,render_mode=\"human\")\n",
    "\n",
    "s_size = env.observation_space.shape[0]\n",
    "a_size = env.action_space.n\n",
    "\n",
    "print(\"_____OBSERVATION SPACE_____ \\n\")\n",
    "print(\"The State Space is: \", s_size)\n",
    "print(\"Sample observation\", env.observation_space.sample()) # Get a random observation"
   ]
  },
  {
   "cell_type": "code",
   "execution_count": 4,
   "id": "92dc078a-f91b-40e3-9da3-97fb63177f3d",
   "metadata": {
    "id": "92dc078a-f91b-40e3-9da3-97fb63177f3d"
   },
   "outputs": [],
   "source": [
    "device = device(\"cuda:0\" if cuda.is_available() else \"cpu\")"
   ]
  },
  {
   "cell_type": "code",
   "execution_count": 5,
   "id": "d94453ec-a996-4d5a-b9bf-24819e35598a",
   "metadata": {
    "id": "d94453ec-a996-4d5a-b9bf-24819e35598a"
   },
   "outputs": [],
   "source": [
    "def calc_disc_return(r_t , gamma = 0.998):\n",
    "\n",
    "    G_t = deque(maxlen = len(r_t))\n",
    "    G_t.append(r_t[-1])\n",
    "\n",
    "    for i in reversed(r_t[:-1]):\n",
    "        disc = i + (gamma*G_t[0])\n",
    "        G_t.appendleft(disc)\n",
    "\n",
    "    return G_t\n",
    "\n",
    "class PolGrad(nn.Module):\n",
    "    def __init__(self, s_size, a_size, h_size):\n",
    "\n",
    "        super(PolGrad, self).__init__()\n",
    "        self.fc1 = nn.Linear(s_size, h_size)\n",
    "        self.fc2 = nn.Linear(h_size, a_size)\n",
    "\n",
    "    def forward(self, state):\n",
    "\n",
    "        state = torch.Tensor(state).to(device)\n",
    "        x = F.relu(self.fc1(state))\n",
    "        x = self.fc2(x)\n",
    "        return x\n",
    "\n",
    "class Agent():\n",
    "\n",
    "    def __init__(self, num_states, num_actions, hidden_lyr, learning_rate=0.001, gamma = 0.99 ):\n",
    "\n",
    "        self.model = PolGrad(num_states, num_actions, hidden_lyr).to(device)\n",
    "        self.optimizer = optim.Adam(self.model.parameters(), lr=learning_rate)\n",
    "        self.gamma = gamma\n",
    "\n",
    "    def act(self,obs):\n",
    "\n",
    "        probs = F.softmax(self.model.forward(obs), dim =0)\n",
    "        action_probs = distributions.Categorical(probs)\n",
    "        action = action_probs.sample()\n",
    "        log_probs = action_probs.log_prob(action)\n",
    "        return action.item(),log_probs\n",
    "\n",
    "    def train(self, rewards, log_probs):\n",
    "\n",
    "        G_t = calc_disc_return(rewards, self.gamma)\n",
    "        #mean = np.mean(G_t)\n",
    "        #std = np.std(G_t) if np.std(G_t) > 0 else 1\n",
    "        #G_t = (G_t - mean) / std\n",
    "\n",
    "        loss = 0\n",
    "        for g, logprob in zip(G_t, log_probs):\n",
    "            loss += -g * logprob\n",
    "        loss = loss / len(G_t)\n",
    "\n",
    "        self.optimizer.zero_grad()\n",
    "        loss.backward()\n",
    "        self.optimizer.step()\n",
    "\n",
    "        return loss"
   ]
  },
  {
   "cell_type": "code",
   "execution_count": 6,
   "id": "3dc1a594-ed57-412a-9047-67cfe6917498",
   "metadata": {
    "id": "3dc1a594-ed57-412a-9047-67cfe6917498"
   },
   "outputs": [],
   "source": [
    "hdn_lyr = 64\n",
    "gamma = 0.999\n",
    "episodes = 60000\n",
    "\n",
    "my_agent = Agent(s_size, a_size, hdn_lyr)"
   ]
  },
  {
   "cell_type": "code",
   "execution_count": 7,
   "id": "ce79b978-bc10-4d25-9343-7784c8a48e9d",
   "metadata": {
    "colab": {
     "base_uri": "https://localhost:8080/"
    },
    "id": "ce79b978-bc10-4d25-9343-7784c8a48e9d",
    "outputId": "9bcee7b2-1edd-4b47-f033-3c0ea7744b00"
   },
   "outputs": [
    {
     "name": "stdout",
     "output_type": "stream",
     "text": [
      "Episode:12810 Loss:21.249 Reward:108.874 Win Rate:0.920\n",
      "Episode:12820 Loss:11.513 Reward:117.639 Win Rate:0.920\n",
      "Episode:12830 Loss:1.223 Reward:6.221 Win Rate:0.900\n",
      "Episode:12840 Loss:14.523 Reward:105.252 Win Rate:0.900\n",
      "Episode:12850 Loss:13.731 Reward:115.794 Win Rate:0.920\n",
      "Episode:12860 Loss:16.704 Reward:109.717 Win Rate:0.940\n",
      "Episode:12870 Loss:18.760 Reward:113.336 Win Rate:0.940\n",
      "Episode:12880 Loss:13.254 Reward:113.015 Win Rate:0.950\n"
     ]
    }
   ],
   "source": [
    "epi_loss = []\n",
    "epi_rewards = []\n",
    "epi_win = []\n",
    "\n",
    "for epi in range(episodes):\n",
    "\n",
    "    s = env.reset()[0]\n",
    "    term , trunc = False, False\n",
    "    rewards, log_probs = [], []\n",
    "    win = 0\n",
    "\n",
    "    while not any([term, trunc]):\n",
    "\n",
    "        a , log_p = my_agent.act(s)\n",
    "        log_probs.append(log_p)\n",
    "        s, r, term ,trunc, _  = env.step(a)\n",
    "\n",
    "        if s[0]>=0.5:\n",
    "          r = 100\n",
    "          win = 1\n",
    "          term = True\n",
    "        else:\n",
    "          r = 100*s[1]*s[1]\n",
    "        rewards.append(r)\n",
    "\n",
    "    epi_win.append(win)\n",
    "    loss = my_agent.train(rewards, log_probs)\n",
    "\n",
    "    epi_loss.append(loss.item())\n",
    "    epi_rewards.append(sum(rewards))\n",
    "\n",
    "    if epi%10 == 0:\n",
    "        print(f'Episode:{epi} Loss:{loss.item():0.3f} Reward:{sum(rewards):0.3f} Win Rate:{np.array(epi_win[-100:]).mean():0.3f}')\n",
    "\n",
    "    if epi%100 == 0:\n",
    "        clear_output()\n",
    "\n",
    "    if np.array(epi_win[-100:]).mean()>0.95:\n",
    "      break\n",
    "\n"
   ]
  },
  {
   "cell_type": "code",
   "execution_count": 8,
   "id": "12659e6c-68e3-4905-a3b8-3e00c826f5ff",
   "metadata": {
    "colab": {
     "base_uri": "https://localhost:8080/",
     "height": 430
    },
    "executionInfo": {
     "elapsed": 758,
     "status": "ok",
     "timestamp": 1707389383129,
     "user": {
      "displayName": "Arindam Dey",
      "userId": "10651625546197419632"
     },
     "user_tz": -330
    },
    "id": "12659e6c-68e3-4905-a3b8-3e00c826f5ff",
    "outputId": "6519dec9-ea6d-4210-e4df-03c5002388dc"
   },
   "outputs": [
    {
     "name": "stderr",
     "output_type": "stream",
     "text": [
      "C:\\Users\\arind\\anaconda3\\envs\\torch\\lib\\site-packages\\gymnasium\\envs\\classic_control\\mountain_car.py:173: UserWarning: \u001b[33mWARN: You are calling render method without specifying any render mode. You can specify the render_mode at initialization, e.g. gym.make(\"MountainCar-v0\", render_mode=\"rgb_array\")\u001b[0m\n",
      "  gym.logger.warn(\n"
     ]
    },
    {
     "name": "stdout",
     "output_type": "stream",
     "text": [
      "End of Trial Episode 0 result 1\n",
      "End of Trial Episode 1 result 1\n",
      "End of Trial Episode 2 result 1\n",
      "End of Trial Episode 3 result 1\n",
      "End of Trial Episode 4 result 1\n",
      "End of Trial Episode 5 result 1\n",
      "End of Trial Episode 6 result 0\n",
      "End of Trial Episode 7 result 1\n",
      "End of Trial Episode 8 result 1\n",
      "End of Trial Episode 9 result 1\n"
     ]
    }
   ],
   "source": [
    "eval_env = gym.make(env_id,render_mode=\"human\")\n",
    "\n",
    "for epi in range(10):\n",
    "\n",
    "    s = eval_env.reset()[0]\n",
    "    term = False\n",
    "    trunc = False\n",
    "    win = 0\n",
    "    n=0\n",
    "    while not any([term, trunc]):\n",
    "\n",
    "        a , log_p = my_agent.act(s)\n",
    "        s, r, term ,trunc , _  = eval_env.step(a)\n",
    "        #s = np.copy(s_)\n",
    "        env.render()\n",
    "        n+=1\n",
    "    if s[0]>=0.5:\n",
    "        win = 1\n",
    "    print(f'End of Trial Episode {epi} result {win}')\n",
    "eval_env.close()"
   ]
  },
  {
   "cell_type": "code",
   "execution_count": 17,
   "id": "7e0c8f68-9efe-4550-b3e0-053625e19c74",
   "metadata": {},
   "outputs": [
    {
     "data": {
      "image/png": "[encoded data removed]",
      "text/plain": [
       "<Figure size 640x480 with 1 Axes>"
      ]
     },
     "metadata": {},
     "output_type": "display_data"
    }
   ],
   "source": [
    "import matplotlib.pyplot as plt\n",
    "import numpy as np\n",
    "\n",
    "ypoints = np.array([3, 8, 1, 10])\n",
    "\n",
    "plt.plot(epi_win, linestyle = 'solid')\n",
    "plt.show()"
   ]
  },
  {
   "cell_type": "code",
   "execution_count": 18,
   "id": "66c48e4e-6ef1-48f5-9055-a9ed4ee1631c",
   "metadata": {},
   "outputs": [
    {
     "data": {
      "text/plain": [
       "[tensor(-0.4920, device='cuda:0', grad_fn=<SqueezeBackward1>),\n",
       " tensor(-0.4158, device='cuda:0', grad_fn=<SqueezeBackward1>),\n",
       " tensor(-1.2272, device='cuda:0', grad_fn=<SqueezeBackward1>),\n",
       " tensor(-1.1903, device='cuda:0', grad_fn=<SqueezeBackward1>),\n",
       " tensor(-0.3843, device='cuda:0', grad_fn=<SqueezeBackward1>),\n",
       " tensor(-0.3273, device='cuda:0', grad_fn=<SqueezeBackward1>),\n",
       " tensor(-0.2798, device='cuda:0', grad_fn=<SqueezeBackward1>),\n",
       " tensor(-0.2406, device='cuda:0', grad_fn=<SqueezeBackward1>),\n",
       " tensor(-0.2086, device='cuda:0', grad_fn=<SqueezeBackward1>),\n",
       " tensor(-0.1825, device='cuda:0', grad_fn=<SqueezeBackward1>),\n",
       " tensor(-0.1616, device='cuda:0', grad_fn=<SqueezeBackward1>),\n",
       " tensor(-0.1449, device='cuda:0', grad_fn=<SqueezeBackward1>),\n",
       " tensor(-0.1317, device='cuda:0', grad_fn=<SqueezeBackward1>),\n",
       " tensor(-0.1216, device='cuda:0', grad_fn=<SqueezeBackward1>),\n",
       " tensor(-0.1141, device='cuda:0', grad_fn=<SqueezeBackward1>),\n",
       " tensor(-0.1088, device='cuda:0', grad_fn=<SqueezeBackward1>),\n",
       " tensor(-0.1056, device='cuda:0', grad_fn=<SqueezeBackward1>),\n",
       " tensor(-2.3234, device='cuda:0', grad_fn=<SqueezeBackward1>),\n",
       " tensor(-0.1339, device='cuda:0', grad_fn=<SqueezeBackward1>),\n",
       " tensor(-0.1370, device='cuda:0', grad_fn=<SqueezeBackward1>),\n",
       " tensor(-0.1422, device='cuda:0', grad_fn=<SqueezeBackward1>),\n",
       " tensor(-0.1497, device='cuda:0', grad_fn=<SqueezeBackward1>),\n",
       " tensor(-0.1598, device='cuda:0', grad_fn=<SqueezeBackward1>),\n",
       " tensor(-0.1727, device='cuda:0', grad_fn=<SqueezeBackward1>),\n",
       " tensor(-0.1888, device='cuda:0', grad_fn=<SqueezeBackward1>),\n",
       " tensor(-0.2098, device='cuda:0', grad_fn=<SqueezeBackward1>),\n",
       " tensor(-0.2356, device='cuda:0', grad_fn=<SqueezeBackward1>),\n",
       " tensor(-0.2663, device='cuda:0', grad_fn=<SqueezeBackward1>),\n",
       " tensor(-0.3025, device='cuda:0', grad_fn=<SqueezeBackward1>),\n",
       " tensor(-0.3448, device='cuda:0', grad_fn=<SqueezeBackward1>),\n",
       " tensor(-0.3937, device='cuda:0', grad_fn=<SqueezeBackward1>),\n",
       " tensor(-1.0205, device='cuda:0', grad_fn=<SqueezeBackward1>),\n",
       " tensor(-0.7811, device='cuda:0', grad_fn=<SqueezeBackward1>),\n",
       " tensor(-0.8175, device='cuda:0', grad_fn=<SqueezeBackward1>),\n",
       " tensor(-0.5226, device='cuda:0', grad_fn=<SqueezeBackward1>),\n",
       " tensor(-1.1495, device='cuda:0', grad_fn=<SqueezeBackward1>),\n",
       " tensor(-0.3424, device='cuda:0', grad_fn=<SqueezeBackward1>),\n",
       " tensor(-1.5191, device='cuda:0', grad_fn=<SqueezeBackward1>),\n",
       " tensor(-0.2245, device='cuda:0', grad_fn=<SqueezeBackward1>),\n",
       " tensor(-0.1637, device='cuda:0', grad_fn=<SqueezeBackward1>),\n",
       " tensor(-0.1202, device='cuda:0', grad_fn=<SqueezeBackward1>),\n",
       " tensor(-0.0881, device='cuda:0', grad_fn=<SqueezeBackward1>),\n",
       " tensor(-0.0654, device='cuda:0', grad_fn=<SqueezeBackward1>),\n",
       " tensor(-0.0494, device='cuda:0', grad_fn=<SqueezeBackward1>),\n",
       " tensor(-0.0381, device='cuda:0', grad_fn=<SqueezeBackward1>),\n",
       " tensor(-0.0300, device='cuda:0', grad_fn=<SqueezeBackward1>),\n",
       " tensor(-3.7563, device='cuda:0', grad_fn=<SqueezeBackward1>),\n",
       " tensor(-0.0256, device='cuda:0', grad_fn=<SqueezeBackward1>),\n",
       " tensor(-3.8665, device='cuda:0', grad_fn=<SqueezeBackward1>),\n",
       " tensor(-0.0243, device='cuda:0', grad_fn=<SqueezeBackward1>),\n",
       " tensor(-0.0214, device='cuda:0', grad_fn=<SqueezeBackward1>),\n",
       " tensor(-0.0195, device='cuda:0', grad_fn=<SqueezeBackward1>),\n",
       " tensor(-0.0184, device='cuda:0', grad_fn=<SqueezeBackward1>),\n",
       " tensor(-0.0179, device='cuda:0', grad_fn=<SqueezeBackward1>),\n",
       " tensor(-0.0180, device='cuda:0', grad_fn=<SqueezeBackward1>),\n",
       " tensor(-0.0186, device='cuda:0', grad_fn=<SqueezeBackward1>),\n",
       " tensor(-0.0196, device='cuda:0', grad_fn=<SqueezeBackward1>),\n",
       " tensor(-0.0212, device='cuda:0', grad_fn=<SqueezeBackward1>),\n",
       " tensor(-0.0235, device='cuda:0', grad_fn=<SqueezeBackward1>),\n",
       " tensor(-0.0255, device='cuda:0', grad_fn=<SqueezeBackward1>),\n",
       " tensor(-0.0284, device='cuda:0', grad_fn=<SqueezeBackward1>),\n",
       " tensor(-0.0323, device='cuda:0', grad_fn=<SqueezeBackward1>),\n",
       " tensor(-0.0372, device='cuda:0', grad_fn=<SqueezeBackward1>),\n",
       " tensor(-0.0399, device='cuda:0', grad_fn=<SqueezeBackward1>),\n",
       " tensor(-0.0427, device='cuda:0', grad_fn=<SqueezeBackward1>),\n",
       " tensor(-0.0464, device='cuda:0', grad_fn=<SqueezeBackward1>),\n",
       " tensor(-0.0507, device='cuda:0', grad_fn=<SqueezeBackward1>),\n",
       " tensor(-0.0547, device='cuda:0', grad_fn=<SqueezeBackward1>),\n",
       " tensor(-0.0595, device='cuda:0', grad_fn=<SqueezeBackward1>),\n",
       " tensor(-0.0648, device='cuda:0', grad_fn=<SqueezeBackward1>),\n",
       " tensor(-0.0687, device='cuda:0', grad_fn=<SqueezeBackward1>),\n",
       " tensor(-0.0732, device='cuda:0', grad_fn=<SqueezeBackward1>),\n",
       " tensor(-0.0783, device='cuda:0', grad_fn=<SqueezeBackward1>),\n",
       " tensor(-0.0840, device='cuda:0', grad_fn=<SqueezeBackward1>),\n",
       " tensor(-0.0906, device='cuda:0', grad_fn=<SqueezeBackward1>),\n",
       " tensor(-0.0978, device='cuda:0', grad_fn=<SqueezeBackward1>),\n",
       " tensor(-0.1058, device='cuda:0', grad_fn=<SqueezeBackward1>),\n",
       " tensor(-2.2616, device='cuda:0', grad_fn=<SqueezeBackward1>),\n",
       " tensor(-0.1504, device='cuda:0', grad_fn=<SqueezeBackward1>),\n",
       " tensor(-0.1645, device='cuda:0', grad_fn=<SqueezeBackward1>),\n",
       " tensor(-1.8341, device='cuda:0', grad_fn=<SqueezeBackward1>),\n",
       " tensor(-0.2375, device='cuda:0', grad_fn=<SqueezeBackward1>),\n",
       " tensor(-0.2626, device='cuda:0', grad_fn=<SqueezeBackward1>),\n",
       " tensor(-0.2912, device='cuda:0', grad_fn=<SqueezeBackward1>),\n",
       " tensor(-1.3083, device='cuda:0', grad_fn=<SqueezeBackward1>),\n",
       " tensor(-0.4273, device='cuda:0', grad_fn=<SqueezeBackward1>),\n",
       " tensor(-0.9840, device='cuda:0', grad_fn=<SqueezeBackward1>),\n",
       " tensor(-0.6301, device='cuda:0', grad_fn=<SqueezeBackward1>),\n",
       " tensor(-0.7116, device='cuda:0', grad_fn=<SqueezeBackward1>),\n",
       " tensor(-0.8048, device='cuda:0', grad_fn=<SqueezeBackward1>),\n",
       " tensor(-0.5257, device='cuda:0', grad_fn=<SqueezeBackward1>),\n",
       " tensor(-0.3813, device='cuda:0', grad_fn=<SqueezeBackward1>),\n",
       " tensor(-0.2672, device='cuda:0', grad_fn=<SqueezeBackward1>),\n",
       " tensor(-1.8259, device='cuda:0', grad_fn=<SqueezeBackward1>),\n",
       " tensor(-0.1448, device='cuda:0', grad_fn=<SqueezeBackward1>),\n",
       " tensor(-0.0942, device='cuda:0', grad_fn=<SqueezeBackward1>),\n",
       " tensor(-0.0599, device='cuda:0', grad_fn=<SqueezeBackward1>),\n",
       " tensor(-0.0375, device='cuda:0', grad_fn=<SqueezeBackward1>),\n",
       " tensor(-0.0233, device='cuda:0', grad_fn=<SqueezeBackward1>),\n",
       " tensor(-0.0146, device='cuda:0', grad_fn=<SqueezeBackward1>),\n",
       " tensor(-0.0091, device='cuda:0', grad_fn=<SqueezeBackward1>),\n",
       " tensor(-0.0057, device='cuda:0', grad_fn=<SqueezeBackward1>),\n",
       " tensor(-0.0036, device='cuda:0', grad_fn=<SqueezeBackward1>),\n",
       " tensor(-0.0025, device='cuda:0', grad_fn=<SqueezeBackward1>),\n",
       " tensor(-0.0019, device='cuda:0', grad_fn=<SqueezeBackward1>),\n",
       " tensor(-0.0015, device='cuda:0', grad_fn=<SqueezeBackward1>),\n",
       " tensor(-0.0012, device='cuda:0', grad_fn=<SqueezeBackward1>),\n",
       " tensor(-0.0011, device='cuda:0', grad_fn=<SqueezeBackward1>),\n",
       " tensor(-0.0012, device='cuda:0', grad_fn=<SqueezeBackward1>),\n",
       " tensor(-0.0014, device='cuda:0', grad_fn=<SqueezeBackward1>),\n",
       " tensor(-0.0017, device='cuda:0', grad_fn=<SqueezeBackward1>),\n",
       " tensor(-0.0024, device='cuda:0', grad_fn=<SqueezeBackward1>),\n",
       " tensor(-0.0035, device='cuda:0', grad_fn=<SqueezeBackward1>),\n",
       " tensor(-0.0053, device='cuda:0', grad_fn=<SqueezeBackward1>),\n",
       " tensor(-0.0081, device='cuda:0', grad_fn=<SqueezeBackward1>),\n",
       " tensor(-0.0124, device='cuda:0', grad_fn=<SqueezeBackward1>),\n",
       " tensor(-0.0189, device='cuda:0', grad_fn=<SqueezeBackward1>),\n",
       " tensor(-0.0284, device='cuda:0', grad_fn=<SqueezeBackward1>),\n",
       " tensor(-0.0713, device='cuda:0', grad_fn=<SqueezeBackward1>),\n",
       " tensor(-0.0499, device='cuda:0', grad_fn=<SqueezeBackward1>),\n",
       " tensor(-0.0357, device='cuda:0', grad_fn=<SqueezeBackward1>),\n",
       " tensor(-0.0261, device='cuda:0', grad_fn=<SqueezeBackward1>),\n",
       " tensor(-0.0192, device='cuda:0', grad_fn=<SqueezeBackward1>),\n",
       " tensor(-0.0143, device='cuda:0', grad_fn=<SqueezeBackward1>),\n",
       " tensor(-0.0109, device='cuda:0', grad_fn=<SqueezeBackward1>),\n",
       " tensor(-0.0083, device='cuda:0', grad_fn=<SqueezeBackward1>),\n",
       " tensor(-0.0063, device='cuda:0', grad_fn=<SqueezeBackward1>),\n",
       " tensor(-0.0049, device='cuda:0', grad_fn=<SqueezeBackward1>),\n",
       " tensor(-0.0038, device='cuda:0', grad_fn=<SqueezeBackward1>),\n",
       " tensor(-0.0029, device='cuda:0', grad_fn=<SqueezeBackward1>),\n",
       " tensor(-0.0023, device='cuda:0', grad_fn=<SqueezeBackward1>),\n",
       " tensor(-0.0018, device='cuda:0', grad_fn=<SqueezeBackward1>),\n",
       " tensor(-0.0014, device='cuda:0', grad_fn=<SqueezeBackward1>),\n",
       " tensor(-0.0012, device='cuda:0', grad_fn=<SqueezeBackward1>),\n",
       " tensor(-0.0010, device='cuda:0', grad_fn=<SqueezeBackward1>),\n",
       " tensor(-0.0008, device='cuda:0', grad_fn=<SqueezeBackward1>),\n",
       " tensor(-0.0008, device='cuda:0', grad_fn=<SqueezeBackward1>),\n",
       " tensor(-0.0007, device='cuda:0', grad_fn=<SqueezeBackward1>),\n",
       " tensor(-0.0007, device='cuda:0', grad_fn=<SqueezeBackward1>),\n",
       " tensor(-0.0007, device='cuda:0', grad_fn=<SqueezeBackward1>),\n",
       " tensor(-0.0008, device='cuda:0', grad_fn=<SqueezeBackward1>),\n",
       " tensor(-0.0009, device='cuda:0', grad_fn=<SqueezeBackward1>),\n",
       " tensor(-0.0010, device='cuda:0', grad_fn=<SqueezeBackward1>),\n",
       " tensor(-0.0012, device='cuda:0', grad_fn=<SqueezeBackward1>),\n",
       " tensor(-0.0015, device='cuda:0', grad_fn=<SqueezeBackward1>),\n",
       " tensor(-0.0019, device='cuda:0', grad_fn=<SqueezeBackward1>),\n",
       " tensor(-0.0021, device='cuda:0', grad_fn=<SqueezeBackward1>),\n",
       " tensor(-0.0023, device='cuda:0', grad_fn=<SqueezeBackward1>),\n",
       " tensor(-0.0025, device='cuda:0', grad_fn=<SqueezeBackward1>),\n",
       " tensor(-0.0027, device='cuda:0', grad_fn=<SqueezeBackward1>),\n",
       " tensor(-0.0029, device='cuda:0', grad_fn=<SqueezeBackward1>),\n",
       " tensor(-0.0031, device='cuda:0', grad_fn=<SqueezeBackward1>),\n",
       " tensor(-0.0030, device='cuda:0', grad_fn=<SqueezeBackward1>),\n",
       " tensor(-0.0029, device='cuda:0', grad_fn=<SqueezeBackward1>),\n",
       " tensor(-0.0028, device='cuda:0', grad_fn=<SqueezeBackward1>),\n",
       " tensor(-0.0026, device='cuda:0', grad_fn=<SqueezeBackward1>),\n",
       " tensor(-0.0024, device='cuda:0', grad_fn=<SqueezeBackward1>)]"
      ]
     },
     "execution_count": 18,
     "metadata": {},
     "output_type": "execute_result"
    }
   ],
   "source": [
    "log_probs"
   ]
  },
  {
   "cell_type": "code",
   "execution_count": null,
   "id": "1b1aba72-5d36-4fd4-8c0c-8b1ac047a7be",
   "metadata": {},
   "outputs": [],
   "source": []
  }
 ],
 "metadata": {
  "colab": {
   "provenance": []
  },
  "kernelspec": {
   "display_name": "torch",
   "language": "python",
   "name": "torch"
  },
  "language_info": {
   "codemirror_mode": {
    "name": "ipython",
    "version": 3
   },
   "file_extension": ".py",
   "mimetype": "text/x-python",
   "name": "python",
   "nbconvert_exporter": "python",
   "pygments_lexer": "ipython3",
   "version": "3.9.16"
  }
 },
 "nbformat": 4,
 "nbformat_minor": 5
}
