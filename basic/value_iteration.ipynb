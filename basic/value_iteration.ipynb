{
 "cells": [
  {
   "cell_type": "code",
   "execution_count": 170,
   "id": "391eedb1-065d-45c4-8fdb-c513ebc027ca",
   "metadata": {},
   "outputs": [],
   "source": [
    "import gymnasium as gym\n",
    "import collections\n",
    "import numpy as np\n",
    "import matplotlib.pyplot as plt\n",
    "\n",
    "ENV_NAME = \"FrozenLake-v1\"\n",
    "GAMMA = 0.9"
   ]
  },
  {
   "cell_type": "code",
   "execution_count": 171,
   "id": "028ad5e0-a3e8-4d1e-a66a-75b751c2d647",
   "metadata": {},
   "outputs": [
    {
     "name": "stdout",
     "output_type": "stream",
     "text": [
      "state size 16\n",
      "action_size 4\n"
     ]
    }
   ],
   "source": [
    "env = gym.make(ENV_NAME, is_slippery = False)\n",
    "\n",
    "# print the state space and action space\n",
    "print(f'state size {env.observation_space.n}')\n",
    "print(f'action_size {env.action_space.n}')\n",
    "\n",
    "nS = env.observation_space.n\n",
    "nA = env.action_space.n"
   ]
  },
  {
   "cell_type": "markdown",
   "id": "13e484a1-ef5a-4063-9643-a38e4d0eaca8",
   "metadata": {},
   "source": [
    "### Initial Policy\n",
    "\n",
    "Play 10 episodes with the random policy"
   ]
  },
  {
   "cell_type": "code",
   "execution_count": 172,
   "id": "55f643be-f9fe-4ff2-9041-a67e4c997493",
   "metadata": {},
   "outputs": [],
   "source": [
    "# Initiate a random policy\n",
    "policy = np.ones([nS, nA]) / nA"
   ]
  },
  {
   "cell_type": "code",
   "execution_count": 173,
   "id": "71522115-059c-405f-8624-ab73cdbe2091",
   "metadata": {},
   "outputs": [
    {
     "name": "stdout",
     "output_type": "stream",
     "text": [
      "0.0\n",
      "0.0\n",
      "0.0\n",
      "0.0\n",
      "0.0\n",
      "0.0\n",
      "0.0\n",
      "0.0\n",
      "0.0\n",
      "0.0\n"
     ]
    }
   ],
   "source": [
    "for epi in range(10):\n",
    "    \n",
    "    s = env.reset()[0]\n",
    "    done, term = False, False\n",
    "    score = []\n",
    "    \n",
    "    while not any([term, done]):\n",
    "        # Take an action based on random policy\n",
    "        a = np.argmax(policy[s])\n",
    "        s_, r, done , term, _ = env.step(a)\n",
    "        score.append(r)\n",
    "        s = s_\n",
    "    print(np.sum(score))"
   ]
  },
  {
   "cell_type": "markdown",
   "id": "6cfb85a9-81b7-40c5-9a55-0469b3dab011",
   "metadata": {},
   "source": [
    "### Policy Evaluation\n",
    "\n",
    "$v_\\pi(s) = \\sum_{a} \\pi(a|s) \\sum_{s',r} p(s',r|s,a)[r+\\gamma*v_\\pi(s')]$"
   ]
  },
  {
   "cell_type": "code",
   "execution_count": 174,
   "id": "108a67c0-7ee4-416a-9f27-36eb4356d1f9",
   "metadata": {},
   "outputs": [],
   "source": [
    "def update_value(env, policy): \n",
    "    theta=1e-8\n",
    "    gamma = 1\n",
    "    V = np.zeros(nS)\n",
    "    iter = 0\n",
    "    while True:\n",
    "        delta = 0\n",
    "        iter += 1\n",
    "        for s in range(nS):\n",
    "            Vs = 0\n",
    "            for a, pi_a_s in enumerate(policy[s]):\n",
    "                for ps_sa, s_, reward, done in env.unwrapped.P[s][a]:\n",
    "                    Vs += pi_a_s * ps_sa * (reward + gamma * V[s_])\n",
    "            delta = max(delta, np.abs(V[s]-Vs))\n",
    "            V[s] = Vs\n",
    "        if delta < theta:\n",
    "            break\n",
    "        \n",
    "    return V#, iter"
   ]
  },
  {
   "cell_type": "markdown",
   "id": "d5ed5a55-162f-46f5-a42b-75f641f8aab7",
   "metadata": {},
   "source": [
    "Build the value function for initial random policy"
   ]
  },
  {
   "cell_type": "code",
   "execution_count": 175,
   "id": "274f2ce0-c002-448c-8198-cc0ebc0fb442",
   "metadata": {},
   "outputs": [
    {
     "name": "stdout",
     "output_type": "stream",
     "text": [
      "[[0.01393977 0.01163091 0.02095297 0.01047648]\n",
      " [0.01624865 0.         0.04075153 0.        ]\n",
      " [0.03480619 0.08816993 0.14205316 0.        ]\n",
      " [0.         0.17582037 0.43929118 0.        ]]\n"
     ]
    }
   ],
   "source": [
    "V = update_value(env, policy)\n",
    "V_ini = np.copy(V)\n",
    "\n",
    "#print(f'Convergence in {iterations = }')\n",
    "print(np.reshape(V_ini, (4,4)))"
   ]
  },
  {
   "cell_type": "code",
   "execution_count": 176,
   "id": "a4dfc357-c2e7-41f0-9731-0f18b5c566cb",
   "metadata": {},
   "outputs": [
    {
     "data": {
      "image/png": "[encoded data removed]",
      "text/plain": [
       "<Figure size 600x600 with 1 Axes>"
      ]
     },
     "metadata": {},
     "output_type": "display_data"
    }
   ],
   "source": [
    "\n",
    "V_sq = np.reshape(V_ini, (4,4))\n",
    "z_min, z_max = V_sq.min(), V_sq.max()\n",
    "\n",
    "fig = plt.figure(figsize=(6, 6))\n",
    "ax = fig.add_subplot(111)\n",
    "im = ax.imshow(V_sq, cmap='cool', vmin = z_min, vmax = z_max,)\n",
    "\n",
    "for (j,i),label in np.ndenumerate(V_sq):\n",
    "    ax.text(i, j, np.round(label, 5), ha='center', va='center', fontsize=14)\n",
    "\n",
    "plt.tick_params(bottom=False, left=False, labelbottom=False, labelleft=False)\n",
    "plt.title('State-Value Function')\n",
    "plt.show()\n"
   ]
  },
  {
   "cell_type": "markdown",
   "id": "b971e1dd-85b5-4277-b23d-cb48af7733cd",
   "metadata": {},
   "source": [
    "### Obtain $q_\\pi$ from $v_\\pi$\n",
    "\n",
    "$q_\\pi(s,a) = \\sum_{s',r} p(s',r|s,a)[r+\\gamma*v_\\pi(s')]$"
   ]
  },
  {
   "cell_type": "code",
   "execution_count": 177,
   "id": "8b64e214-7b5d-4495-b154-0d61af5508cb",
   "metadata": {},
   "outputs": [],
   "source": [
    "def q_from_v(env, V, s, gamma=1):\n",
    "    q = np.zeros(nA)\n",
    "    for a in range(nA):\n",
    "        for prob, s_, reward, done in env.P[s][a]:\n",
    "            q[a] += prob * (reward + gamma * V[s_])\n",
    "    return q"
   ]
  },
  {
   "cell_type": "code",
   "execution_count": 178,
   "id": "e209bbf3-6ae7-4ceb-95e3-3bdd7bd615a2",
   "metadata": {},
   "outputs": [
    {
     "name": "stdout",
     "output_type": "stream",
     "text": [
      "Action-Value Function:\n",
      "[[0.01393977 0.01624865 0.01163091 0.01393977]\n",
      " [0.01393977 0.         0.02095297 0.01163091]\n",
      " [0.01163091 0.04075153 0.01047648 0.02095297]\n",
      " [0.02095297 0.         0.01047648 0.01047648]\n",
      " [0.01624865 0.03480619 0.         0.01393977]\n",
      " [0.         0.         0.         0.        ]\n",
      " [0.         0.14205316 0.         0.02095297]\n",
      " [0.         0.         0.         0.        ]\n",
      " [0.03480619 0.         0.08816993 0.01624865]\n",
      " [0.03480619 0.17582037 0.14205316 0.        ]\n",
      " [0.08816993 0.43929118 0.         0.04075153]\n",
      " [0.         0.         0.         0.        ]\n",
      " [0.         0.         0.         0.        ]\n",
      " [0.         0.17582037 0.43929118 0.08816993]\n",
      " [0.17582037 0.43929118 1.         0.14205316]\n",
      " [0.         0.         0.         0.        ]]\n"
     ]
    }
   ],
   "source": [
    "Q = np.zeros([nS, nA])\n",
    "for s in range(nS):\n",
    "    Q[s] = q_from_v(env, V, s)\n",
    "print(\"Action-Value Function:\")\n",
    "print(Q)"
   ]
  },
  {
   "cell_type": "markdown",
   "id": "27e83f5d-f31f-485e-b6ad-d8e5d52f9901",
   "metadata": {},
   "source": [
    "### Policy Improvement\n",
    "\n",
    "$\\pi'(s) = argmax_{a}q_\\pi(s,a)$"
   ]
  },
  {
   "cell_type": "code",
   "execution_count": 185,
   "id": "07f8dd9d-7946-4e54-b311-679629bda892",
   "metadata": {},
   "outputs": [],
   "source": [
    "policy = np.zeros([nS, nA]) / nA\n",
    "\n",
    "for s in range(nS):\n",
    "    q = Q[s]\n",
    "    # OPTION 1: construct a deterministic policy \n",
    "    #policy[s][np.argmax(q)] = 1\n",
    "\n",
    "    # OPTION 2: construct a stochastic policy that puts equal probability on maximizing actions\n",
    "    best_a = np.argwhere(q==np.max(q)).flatten()\n",
    "    policy[s] = np.sum([np.eye(nA)[i] for i in best_a], axis=0)/len(best_a)"
   ]
  },
  {
   "cell_type": "code",
   "execution_count": 186,
   "id": "360574f6-df66-4d42-8194-8879b7f8ace5",
   "metadata": {},
   "outputs": [
    {
     "name": "stdout",
     "output_type": "stream",
     "text": [
      "Improved policy\n",
      "[[0.   1.   0.   0.  ]\n",
      " [0.   0.   1.   0.  ]\n",
      " [0.   1.   0.   0.  ]\n",
      " [1.   0.   0.   0.  ]\n",
      " [0.   1.   0.   0.  ]\n",
      " [0.25 0.25 0.25 0.25]\n",
      " [0.   1.   0.   0.  ]\n",
      " [0.25 0.25 0.25 0.25]\n",
      " [0.   0.   1.   0.  ]\n",
      " [0.   1.   0.   0.  ]\n",
      " [0.   1.   0.   0.  ]\n",
      " [0.25 0.25 0.25 0.25]\n",
      " [0.25 0.25 0.25 0.25]\n",
      " [0.   0.   1.   0.  ]\n",
      " [0.   0.   1.   0.  ]\n",
      " [0.25 0.25 0.25 0.25]]\n"
     ]
    }
   ],
   "source": [
    "print(\"Improved policy\")\n",
    "print(policy)"
   ]
  },
  {
   "cell_type": "markdown",
   "id": "9b2f9365-1445-4d68-b9c5-45777b2a2d4a",
   "metadata": {},
   "source": [
    "### Policy Iteration"
   ]
  },
  {
   "cell_type": "code",
   "execution_count": 181,
   "id": "916f5e49-ffb0-4b7b-ab52-854f9a6f3ba8",
   "metadata": {},
   "outputs": [],
   "source": [
    "n = 0\n",
    "\n",
    "\n",
    "while True:\n",
    "    \n",
    "    delta = 0\n",
    "    V = update_value(env, policy)\n",
    "    V_new = np.copy(V)\n",
    "    \n",
    "    Q = np.zeros([nS, nA])\n",
    "    for s in range(nS):\n",
    "        Q[s] = q_from_v(env, V, s)\n",
    "        \n",
    "    policy = np.zeros([nS, nA]) / nA\n",
    "\n",
    "    for s in range(nS):\n",
    "    #s = 0\n",
    "        q = Q[s]\n",
    "\n",
    "        # OPTION 1: construct a deterministic policy \n",
    "        #policy[s][np.argmax(q)] = 1\n",
    "\n",
    "        # OPTION 2: construct a stochastic policy that puts equal probability on maximizing actions\n",
    "        \n",
    "        best_a = np.argwhere(q==np.max(q)).flatten()\n",
    "        policy[s] = np.sum([np.eye(nA)[i] for i in best_a], axis=0)/len(best_a)\n",
    "    \n",
    "    delta = np.max(np.abs(V_new - V_ini))\n",
    "    V_ini = V_new.copy()\n",
    "    if delta < 1e-3:\n",
    "        \n",
    "        break\n",
    "    \n",
    "    n+=1\n",
    "    "
   ]
  },
  {
   "cell_type": "code",
   "execution_count": 182,
   "id": "68d773be-8d0c-423c-8983-46840e9b4245",
   "metadata": {},
   "outputs": [
    {
     "data": {
      "text/plain": [
       "array([[0.99999956, 0.99999956, 0.99999959, 0.99999957],\n",
       "       [0.99999959, 0.        , 0.99999966, 0.        ],\n",
       "       [0.99999965, 0.99999971, 0.99999973, 0.        ],\n",
       "       [0.        , 0.99999977, 0.99999983, 0.        ]])"
      ]
     },
     "execution_count": 182,
     "metadata": {},
     "output_type": "execute_result"
    }
   ],
   "source": [
    "np.reshape(V_ini, (4,4))"
   ]
  },
  {
   "cell_type": "code",
   "execution_count": 183,
   "id": "a47a9d8b-2ace-461c-abfa-adb92a2e70c8",
   "metadata": {},
   "outputs": [
    {
     "data": {
      "image/png": "[encoded data removed]",
      "text/plain": [
       "<Figure size 600x600 with 1 Axes>"
      ]
     },
     "metadata": {},
     "output_type": "display_data"
    }
   ],
   "source": [
    "V_sq = np.reshape(V_ini, (4,4))\n",
    "z_min, z_max = V_sq.min(), V_sq.max()\n",
    "\n",
    "fig = plt.figure(figsize=(6, 6))\n",
    "ax = fig.add_subplot(111)\n",
    "im = ax.imshow(V_sq, cmap='cool', vmin = z_min, vmax = z_max,)\n",
    "\n",
    "for (j,i),label in np.ndenumerate(V_sq):\n",
    "    ax.text(i, j, np.round(label, 5), ha='center', va='center', fontsize=14)\n",
    "\n",
    "plt.tick_params(bottom=False, left=False, labelbottom=False, labelleft=False)\n",
    "plt.title('State-Value Function')\n",
    "plt.show()"
   ]
  },
  {
   "cell_type": "code",
   "execution_count": 184,
   "id": "9f46afd7-1eb1-4ecb-8fb3-0929186b0a50",
   "metadata": {},
   "outputs": [
    {
     "name": "stdout",
     "output_type": "stream",
     "text": [
      "1.0\n",
      "1.0\n",
      "1.0\n",
      "1.0\n",
      "1.0\n",
      "1.0\n",
      "1.0\n",
      "1.0\n",
      "1.0\n",
      "1.0\n"
     ]
    }
   ],
   "source": [
    "for epi in range(10):\n",
    "    \n",
    "    s = env.reset()[0]\n",
    "    done, term = False, False\n",
    "    score = []\n",
    "    \n",
    "    while not any([term, done]):\n",
    "        a = np.argmax(policy[s])\n",
    "        s_, r, done , term, _ = env.step(a)\n",
    "        \n",
    "        score.append(r)\n",
    "        s = s_\n",
    "    print(np.sum(score))"
   ]
  },
  {
   "cell_type": "code",
   "execution_count": null,
   "id": "3eb15b10-0b8c-42dd-b8a7-7b7f7edf6b17",
   "metadata": {},
   "outputs": [],
   "source": []
  }
 ],
 "metadata": {
  "kernelspec": {
   "display_name": "torch",
   "language": "python",
   "name": "torch"
  },
  "language_info": {
   "codemirror_mode": {
    "name": "ipython",
    "version": 3
   },
   "file_extension": ".py",
   "mimetype": "text/x-python",
   "name": "python",
   "nbconvert_exporter": "python",
   "pygments_lexer": "ipython3",
   "version": "3.9.16"
  }
 },
 "nbformat": 4,
 "nbformat_minor": 5
}
